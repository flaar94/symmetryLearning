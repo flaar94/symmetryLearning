{
 "cells": [
  {
   "cell_type": "code",
   "execution_count": 40,
   "outputs": [],
   "source": [
    "import torch\n",
    "import numpy as np\n",
    "import seaborn as sns\n",
    "import torchvision\n",
    "import torchvision.transforms as transforms\n",
    "import matplotlib.pyplot as plt\n",
    "from sklearn.utils import resample\n",
    "from scipy.stats import rankdata, skewtest, skew\n",
    "from core import SymmetryFinder, SymmetryFinder2, SymmetryFinderMeanBS, train_unsup\n",
    "from matplotlib.ticker import AutoMinorLocator, MultipleLocator\n",
    "import time\n",
    "DATA_PATH = '../data/weak_dataset.npy'"
   ],
   "metadata": {
    "collapsed": false
   }
  },
  {
   "cell_type": "code",
   "execution_count": 41,
   "outputs": [],
   "source": [
    "\n",
    "def imshow(img, dim):\n",
    "    img = img.reshape(dim) * 255\n",
    "    plt.imshow(img, cmap='gray')\n",
    "    plt.show()"
   ],
   "metadata": {
    "collapsed": false
   }
  },
  {
   "cell_type": "code",
   "execution_count": 42,
   "outputs": [],
   "source": [
    "# class TrainSet(torch.utils.data.Dataset):\n",
    "#     def __init__(self, path, transform=None):\n",
    "#         super().__init__()\n",
    "#         self.path = path\n",
    "#         self.data = np.load(path)\n",
    "#         self.rows = self.data.shape[0]\n",
    "#         self.cols = self.data.shape[1]\n",
    "#         self.transform = transform\n",
    "#\n",
    "#     def __len__(self):\n",
    "#         return self.rows\n",
    "#\n",
    "#     def __getitem__(self, idx):\n",
    "#         sample = torch.tensor(self.data[idx], dtype=torch.float)\n",
    "#         if self.transform:\n",
    "#             sample = self.transform(sample)\n",
    "#\n",
    "#         return sample\n",
    "#\n",
    "# trainset = TrainSet(DATA_PATH)\n",
    "# trainset.data = trainset.data/np.std(trainset.data)\n",
    "# data = trainset[:].numpy()\n",
    "#\n",
    "#"
   ],
   "metadata": {
    "collapsed": false
   }
  },
  {
   "cell_type": "code",
   "execution_count": 43,
   "outputs": [],
   "source": [
    "# sym = SymmetryFinder(fit_method='loc_cov_adj', select_method=5)\n",
    "# sym.fit(data)\n",
    "# swaps = int((sym.trans_eigenvalues_ == -1).sum())\n",
    "#"
   ],
   "metadata": {
    "collapsed": false
   }
  },
  {
   "cell_type": "code",
   "execution_count": 44,
   "outputs": [],
   "source": [
    "# sym.cov_eigenvalues_\n",
    "#"
   ],
   "metadata": {
    "collapsed": false
   }
  },
  {
   "cell_type": "code",
   "execution_count": 45,
   "outputs": [],
   "source": [
    "# sym.tot_\n",
    "#"
   ],
   "metadata": {
    "collapsed": false
   }
  },
  {
   "cell_type": "code",
   "execution_count": 46,
   "outputs": [],
   "source": [
    "# np.abs(sym.sol_)/np.sqrt(sym.cov_eigenvalues_)\n",
    "#"
   ],
   "metadata": {
    "collapsed": false
   }
  },
  {
   "cell_type": "code",
   "execution_count": 47,
   "outputs": [],
   "source": [
    "# sym.stats_ * np.sqrt(250_000)\n",
    "#"
   ],
   "metadata": {
    "collapsed": false
   }
  },
  {
   "cell_type": "code",
   "execution_count": 48,
   "outputs": [],
   "source": [
    "# sym.stats_ * np.sqrt(250_000) > 2\n",
    "#"
   ],
   "metadata": {
    "collapsed": false
   }
  },
  {
   "cell_type": "code",
   "execution_count": 49,
   "outputs": [],
   "source": [
    "# np.linalg.norm(sym.mu_)\n",
    "#"
   ],
   "metadata": {
    "collapsed": false
   }
  },
  {
   "cell_type": "code",
   "execution_count": 50,
   "outputs": [],
   "source": [
    "# print(rankdata(sym.stats_))\n",
    "# print(rankdata(np.abs(sym.sol_)/np.sqrt(sym.cov_eigenvalues_)))\n",
    "#"
   ],
   "metadata": {
    "collapsed": false
   }
  },
  {
   "cell_type": "code",
   "execution_count": 51,
   "outputs": [],
   "source": [
    "# sym2 = SymmetryFinder(fit_method='mean', select_method=5)\n",
    "# sym2.fit(data)\n",
    "#\n",
    "#\n",
    "#"
   ],
   "metadata": {
    "collapsed": false
   }
  },
  {
   "cell_type": "code",
   "execution_count": 52,
   "outputs": [],
   "source": [
    "# # # sym3 = SymmetryFinder(alpha=0.05, fit_method='skew', bootstraps=500, select_method=swaps)\n",
    "# # # sym3.fit(data)\n",
    "# #\n",
    "# #\n",
    "#"
   ],
   "metadata": {
    "collapsed": false
   }
  },
  {
   "cell_type": "code",
   "execution_count": 53,
   "outputs": [],
   "source": [
    "# img = sym.trans_\n",
    "# fig, ax = plt.subplots(1, 2)\n",
    "# # plt.imshow(img)\n",
    "# ax[0].imshow(img)\n",
    "# img2 = sym2.trans_\n",
    "# ax[1].imshow(img2)\n",
    "# # img3 = sym3.trans_\n",
    "# # ax[2].imshow(img3)\n",
    "# # plt.show()\n",
    "#"
   ],
   "metadata": {
    "collapsed": false
   }
  },
  {
   "cell_type": "code",
   "execution_count": 54,
   "outputs": [],
   "source": [
    "# from copy import copy\n",
    "#\n",
    "# cov_rank = rankdata(sym.cov_eigenvalues_)\n",
    "# stats = np.sqrt(sym.stats_)\n",
    "# sns.lineplot(cov_rank, np.log(stats))\n",
    "#"
   ],
   "metadata": {
    "collapsed": false
   }
  },
  {
   "cell_type": "code",
   "execution_count": 55,
   "outputs": [],
   "source": [
    "# sym.eigenvectors_[:, 3]\n",
    "#"
   ],
   "metadata": {
    "collapsed": false
   }
  },
  {
   "cell_type": "code",
   "execution_count": 56,
   "outputs": [],
   "source": [
    "# stats = np.sqrt(sym.cov_eigenvalues_)\n",
    "# sns.lineplot(cov_rank, stats)\n",
    "# # print(stats)\n",
    "#"
   ],
   "metadata": {
    "collapsed": false
   }
  },
  {
   "cell_type": "code",
   "execution_count": 57,
   "outputs": [],
   "source": [
    "# pos_data_frac = ((data @ sym.eigenvectors_) > 0).sum(axis=0) / data.shape[0]\n",
    "# diffs = np.abs(pos_data_frac - 0.5)\n",
    "# sns.lineplot(cov_rank, np.log(diffs))\n",
    "#"
   ],
   "metadata": {
    "collapsed": false
   }
  },
  {
   "cell_type": "code",
   "execution_count": 58,
   "outputs": [],
   "source": [
    "# stats = np.abs(np.median(data @ sym.eigenvectors_, axis=0) - sym.sol_) / (2 * np.sqrt(sym.cov_eigenvalues_))\n",
    "# sns.lineplot(cov_rank, np.log(stats))"
   ],
   "metadata": {
    "collapsed": false
   }
  },
  {
   "cell_type": "code",
   "execution_count": 59,
   "outputs": [],
   "source": [
    "# stats = np.sqrt(sym.cov_eigenvalues_)\n",
    "# sns.lineplot(cov_rank, np.log(diffs))"
   ],
   "metadata": {
    "collapsed": false
   }
  },
  {
   "cell_type": "code",
   "execution_count": 60,
   "outputs": [],
   "source": [
    "# from scipy.linalg import block_diag\n",
    "# sym_mat = block_diag(*[np.array([[0, 1], [1, 0]]) for _ in range(data.shape[1] // 2)])\n",
    "# print(np.sqrt(np.mean((sym.trans_-sym_mat)**2)),\n",
    "#       # np.sqrt(np.mean((sym2.trans_-sym_mat)**2)),\n",
    "#       # np.sqrt(np.mean((sym3.trans_-sym_mat)**2))\n",
    "#       )\n",
    "#"
   ],
   "metadata": {
    "collapsed": false
   }
  },
  {
   "cell_type": "code",
   "execution_count": 61,
   "outputs": [],
   "source": [
    "# sym2.fine_tune(data, lr=0.1, epochs=1_000, bandwidth=10, weight_penalty_adj=100)\n",
    "#"
   ],
   "metadata": {
    "collapsed": false
   }
  },
  {
   "cell_type": "code",
   "execution_count": 62,
   "outputs": [],
   "source": [
    "# print(np.sqrt(np.mean((sym2.trans_-sym_mat)**2)))\n",
    "#"
   ],
   "metadata": {
    "collapsed": false
   }
  },
  {
   "cell_type": "code",
   "execution_count": 63,
   "outputs": [],
   "source": [
    "# print(np.sqrt(np.mean((sym2.trans_-sym_mat)**2)))\n",
    "#"
   ],
   "metadata": {
    "collapsed": false
   }
  },
  {
   "cell_type": "code",
   "execution_count": 64,
   "outputs": [],
   "source": [
    "# img = sym2.trans_\n",
    "# plt.imshow(img)\n",
    "#\n",
    "#"
   ],
   "metadata": {
    "collapsed": false
   }
  },
  {
   "cell_type": "code",
   "execution_count": 65,
   "outputs": [],
   "source": [
    "# from torch import optim\n",
    "# import torch.nn as nn\n",
    "# import torch.nn.functional as F\n",
    "\n",
    "# class Net(nn.Module):\n",
    "#     def __init__(self):\n",
    "#         super(Net, self).__init__()\n",
    "#         self.fc1 = nn.Linear(trainset.cols, trainset.cols, bias=False)\n",
    "#         self.trans = torch.block_diag(*[torch.tensor([[0, 1], [1, 0]], dtype=torch.float) for _ in range(trainset.cols // 2)])\n",
    "#\n",
    "#\n",
    "#     def forward(self, x):\n",
    "#         x = self.fc1(x)\n",
    "#         x = F.linear(x, self.trans)\n",
    "#         x = F.linear(x, self.fc1.weight.t())\n",
    "#         return x\n",
    "#\n",
    "# # def init_weights(m):\n",
    "# #     if type(m) == nn.Linear:\n",
    "# #         torch.nn.init.orthogonal_(m.weight)\n",
    "#\n",
    "# class MyInit:\n",
    "#     def __init__(self, fc1, trans):\n",
    "#         self.fc1 = fc1\n",
    "#         self.trans = trans\n",
    "#\n",
    "#     def __call__(self, model):\n",
    "#         with torch.no_grad():\n",
    "#             model.fc1.weight.copy_(self.fc1)\n",
    "#             model.trans.copy_(self.trans)\n",
    "#\n",
    "#\n",
    "#\n",
    "# def split(X):\n",
    "#     return X[:X.shape[0]//2], X[X.shape[0]//2:]\n",
    "#\n",
    "# def se_kernel(X, Y, sig2=1):\n",
    "#     X_norms =  torch.mean(X ** 2, dim=1)\n",
    "#     Y_norms = torch.mean(Y ** 2, dim=1)\n",
    "#     # print(torch.exp(X_norms.unsqueeze(1) / (2 * sig2)).shape, torch.exp(Y_norms.unsqueeze(0) / (2 * sig2)).shape)\n",
    "#     # print(X.shape, Y.shape)\n",
    "#     return torch.exp(X @ Y.t() / (2 * sig2 * X.shape[1])) / (torch.exp(X_norms.unsqueeze(1) / (2 * sig2 * X.shape[1])) @\n",
    "#                                                 torch.exp(Y_norms.unsqueeze(0) / (2 * sig2 * X.shape[1]))) * sig2\n",
    "#\n",
    "# def poly_kernel(X, Y, r=1, m=2, gamma=0.01):\n",
    "#     return (r + gamma * X @ Y.t()) ** m\n",
    "#\n",
    "# class MMDLoss(nn.Module):\n",
    "#     def __init__(self, kernel = se_kernel, **kwargs):\n",
    "#         super().__init__()\n",
    "#         self.kernel = kernel\n",
    "#         self.kwargs = kwargs\n",
    "#\n",
    "#     def forward(self, X, Y):\n",
    "#         kernel_dists = self.kernel(X, X, **self.kwargs) + self.kernel(Y, Y, **self.kwargs) - 2 * self.kernel(X, Y, **self.kwargs)\n",
    "#         loss = torch.mean(kernel_dists)\n",
    "#         return loss\n",
    "#\n",
    "# class SplitMMDLoss(nn.Module):\n",
    "#     def __init__(self, kernel = se_kernel, **kwargs):\n",
    "#         super().__init__()\n",
    "#         self.kernel = kernel\n",
    "#         self.kwargs = kwargs\n",
    "#\n",
    "#     def forward(self, X, Y):\n",
    "#         X1, X2 = split(X)\n",
    "#         Y1, Y2 = split(Y)\n",
    "#         kernel_dists = self.kernel(X1, X2, **self.kwargs) + self.kernel(Y1, Y2, **self.kwargs) - \\\n",
    "#                        self.kernel(X1, Y2, **self.kwargs) - self.kernel(X2, Y1, **self.kwargs)\n",
    "#         loss = torch.mean(kernel_dists)\n",
    "#         return loss\n",
    "#\n",
    "# class DebiasedMMDLoss(nn.Module):\n",
    "#     def __init__(self, kernel = se_kernel, **kwargs):\n",
    "#         super().__init__()\n",
    "#         self.kernel = kernel\n",
    "#         self.kwargs = kwargs\n",
    "#\n",
    "#     def forward(self, X, Y):\n",
    "#         kernel_dists = self.kernel(X, X, **self.kwargs) + \\\n",
    "#                        self.kernel(Y, Y, **self.kwargs) - \\\n",
    "#                        2 * self.kernel(X, Y, **self.kwargs)\n",
    "#         mask = torch.eye(*kernel_dists.shape, device=kernel_dists.device).byte()\n",
    "#         kernel_dists.masked_fill_(mask, 0)\n",
    "#         loss = torch.mean(kernel_dists)\n",
    "#         return loss\n",
    "\n"
   ],
   "metadata": {
    "collapsed": false
   }
  },
  {
   "cell_type": "code",
   "execution_count": 66,
   "outputs": [],
   "source": [
    "# my_init = MyInit(torch.tensor(sym.eigenvectors_.T), torch.tensor(np.diag(sym.trans_eigenvalues_)))\n",
    "# BATCH_SIZE = 2048\n",
    "# trainloader = torch.utils.data.DataLoader(trainset, batch_size=BATCH_SIZE,\n",
    "#                                           shuffle=True, pin_memory=True)\n",
    "#\n",
    "# # criterion = DebiasedMMDLoss(kernel = poly_kernel, r=1, m=2, gamma=0.3)\n",
    "# criterion = DebiasedMMDLoss(kernel = se_kernel, sig2=1)\n",
    "# weight_criterion = nn.MSELoss()\n",
    "#\n",
    "# stride = len(trainset) // (BATCH_SIZE * 3)\n"
   ],
   "metadata": {
    "collapsed": false
   }
  },
  {
   "cell_type": "code",
   "execution_count": 67,
   "outputs": [],
   "source": [
    "# from windows_inhibitor import WindowsInhibitor\n",
    "#\n",
    "# device='cuda:0'\n",
    "#\n",
    "# with WindowsInhibitor():\n",
    "#     train_unsup(trainloader, Net, device, optim.SGD, criterion, weight_criterion, init=my_init,\n",
    "#                 use_saved=False, error_display_stride=5, inter_error_stride=stride, epochs=50,\n",
    "#                 optimizer_params={'lr': 0.03, 'momentum': 0.5, 'weight_decay': 0},\n",
    "#                 weight_penalty_adj=10)\n"
   ],
   "metadata": {
    "collapsed": false
   }
  },
  {
   "cell_type": "code",
   "execution_count": 68,
   "outputs": [],
   "source": [
    "# net = Net()\n",
    "# net.load_state_dict(torch.load('state_dict.pt'))\n",
    "# mat_ft = (net.fc1.weight.t() @ torch.tensor(np.diag(sym.trans_eigenvalues_), dtype=torch.float) @ net.fc1.weight).detach().numpy()\n",
    "# print(np.sqrt(np.mean((sym.trans_-sym_mat)**2)), np.sqrt(np.mean((mat_ft-sym_mat)**2)))\n",
    "#"
   ],
   "metadata": {
    "collapsed": false
   }
  },
  {
   "cell_type": "code",
   "execution_count": 69,
   "outputs": [],
   "source": [
    "# img = sym.trans_\n",
    "# fig, ax = plt.subplots(1, 2)\n",
    "# ax[0].imshow(img)\n",
    "# img2 = mat_ft\n",
    "# ax[1].imshow(img2)\n",
    "#\n"
   ],
   "metadata": {
    "collapsed": false
   }
  },
  {
   "cell_type": "code",
   "execution_count": 70,
   "outputs": [],
   "source": [
    "# # img = sym.trans_\n",
    "# # fig, ax = plt.subplots(figsize=(10, 8))\n",
    "# # plt.imshow(img)\n",
    "# # # ax.xaxis.set_major_locator(MultipleLocator(dim[0]))\n",
    "# # # ax.yaxis.set_major_locator(MultipleLocator(dim[0]))\n",
    "# # # plt.grid()\n",
    "# # plt.show()\n",
    "#"
   ],
   "metadata": {
    "collapsed": false
   }
  },
  {
   "cell_type": "code",
   "execution_count": 71,
   "outputs": [],
   "source": [
    "# for j, la in enumerate(sym.trans_eigenvalues_):\n",
    "#     # if la == 1:\n",
    "#     #     continue\n",
    "#     eig = sym.eigenvectors_[:, j]\n",
    "#     pos_pts = []\n",
    "#     for i, x in enumerate(data):\n",
    "#         if x @ eig > 0:\n",
    "#             pos_pts.append(i)\n",
    "#     pos_pts = np.array(pos_pts)\n",
    "#     print(j, la, len(pos_pts))\n",
    "#"
   ],
   "metadata": {
    "collapsed": false
   }
  },
  {
   "cell_type": "code",
   "execution_count": 72,
   "outputs": [],
   "source": [
    "# sym.cov_eigenvalues_\n",
    "#\n",
    "#"
   ],
   "metadata": {
    "collapsed": false
   }
  },
  {
   "cell_type": "code",
   "execution_count": 73,
   "outputs": [],
   "source": [
    "# sym.cov_eigenvalues_\n",
    "#"
   ],
   "metadata": {
    "collapsed": false
   }
  },
  {
   "cell_type": "code",
   "execution_count": 74,
   "outputs": [],
   "source": [
    "# sym.eigenvectors_[:, 10]\n",
    "#"
   ],
   "metadata": {
    "collapsed": false
   }
  },
  {
   "cell_type": "code",
   "execution_count": 75,
   "outputs": [],
   "source": [
    "# sns.distplot(sym.sol_/sym.cov_eigenvalues_, bins=10)\n",
    "#"
   ],
   "metadata": {
    "collapsed": false
   }
  },
  {
   "cell_type": "code",
   "execution_count": 76,
   "outputs": [],
   "source": [
    "# np.round(sym.sol_/sym.cov_eigenvalues_, 3)\n"
   ],
   "metadata": {
    "collapsed": false
   }
  },
  {
   "cell_type": "code",
   "execution_count": 77,
   "outputs": [],
   "source": [
    "import torchvision.transforms.functional as funct\n",
    "dim = (10, 10)\n",
    "\n",
    "transform = transforms.Compose(\n",
    "    [\n",
    "    lambda x: funct.rotate(x, angle=-90),\n",
    "    # transforms.RandomHorizontalFlip(),\n",
    "    transforms.Resize(dim),\n",
    "    transforms.ToTensor(),\n",
    "     lambda x: x.view(-1),\n",
    "     lambda x: x.numpy()])\n",
    "\n",
    "trainset = torchvision.datasets.EMNIST(root='./data', train=True,\n",
    "                                        download=True, transform=transform,\n",
    "                                        split=\"digits\",\n",
    "                                      )\n",
    "# testset = torchvision.datasets.EMNIST(root='./data', train=False,\n",
    "#                                        download=True, transform=transform, split=\"digits\")\n",
    "\n",
    "# idx = (trainset.targets == 6)\n",
    "# trainset.targets = trainset.targets[idx]\n",
    "# trainset.data = trainset.data[idx]\n",
    "data2 = np.array([x for i, (x, label) in enumerate(trainset)])"
   ],
   "metadata": {
    "collapsed": false
   }
  },
  {
   "cell_type": "code",
   "execution_count": 78,
   "outputs": [
    {
     "name": "stdout",
     "output_type": "stream",
     "text": [
      "4 -4.705740538983858\n",
      "5 -4.39061300861965\n",
      "6 -4.546054038048315\n",
      "7 -5.515244778744494\n",
      "8 -5.739638738709113\n",
      "9 -6.3181645910810245\n",
      "10 -7.596445177017918\n",
      "11 -8.122105851209263\n",
      "12 -8.15576033010127\n",
      "13 -8.216895981234073\n",
      "14 -8.314023143161517\n",
      "15 -9.666518697831652\n",
      "16 -9.874890262559308\n",
      "17 -9.898846562881412\n",
      "18 -9.975500611508322\n",
      "19 -9.721425763909725\n",
      "20 -9.909943995097363\n",
      "21 -10.078915485994056\n",
      "22 -10.23559552659378\n",
      "23 -10.290896616908366\n",
      "24 -10.379000802697119\n",
      "25 -10.567941584533198\n",
      "26 -10.2852609143111\n",
      "27 -10.453224078657131\n",
      "28 -10.455082352619742\n",
      "29 -10.367797203675334\n",
      "30 -10.795569630770354\n",
      "31 -10.471950540973548\n",
      "32 -10.580785504912862\n",
      "33 -10.779800467946965\n",
      "34 -10.92449734006671\n",
      "35 -10.983778666462936\n",
      "36 -11.037150712786268\n",
      "37 -10.952760818391047\n",
      "38 -11.081636602910093\n",
      "39 -11.042924290370129\n",
      "40 -12.41276129741769\n",
      "41 -12.709732886738582\n",
      "42 -12.975601066491382\n",
      "43 -13.093159860404679\n",
      "44 -13.135487885792646\n",
      "45 -13.097796539251362\n",
      "46 -13.171170174745082\n",
      "47 -13.326543976356968\n",
      "48 -13.349713021160017\n",
      "49 -13.254435878584394\n",
      "50 -13.69425148653427\n",
      "51 -13.938396260960072\n",
      "52 -14.124231327174897\n",
      "53 -14.064229997863212\n",
      "54 -13.895157305872312\n",
      "55 -14.032417173111014\n",
      "56 -14.149671543435508\n",
      "57 -14.28870581816221\n",
      "58 -14.567845334704547\n",
      "59 -15.167126740993927\n",
      "60 -15.11391499872155\n",
      "61 -15.4824939117272\n",
      "62 -15.47086859928076\n",
      "63 -15.74081696365729\n",
      "64 -15.802177208573758\n",
      "65 -17.535472853646848\n",
      "66 -17.279151712161326\n",
      "67 -17.34319534242834\n",
      "68 -17.76849498820467\n",
      "69 -18.04811031346278\n",
      "70 -18.36356306303253\n",
      "71 -19.81718104227209\n",
      "72 -20.871694187592883\n",
      "73 -23.267506174353677\n",
      "74 -23.926052376246606\n",
      "75 -25.297884674267735\n",
      "76 -28.48520687900149\n",
      "77 -28.567907541740045\n",
      "78 -29.943878529668808\n",
      "79 -30.239239137341293\n",
      "80 -30.05494989528347\n",
      "81 -30.269847506063293\n",
      "82 -30.080381638627195\n",
      "83 -33.32338033828603\n",
      "84 -39.444790771177004\n",
      "85 -42.302055344757655\n",
      "86 -47.89214192961701\n",
      "87 -50.96964358014878\n",
      "88 -52.722204834675566\n",
      "89 -59.00031541745403\n",
      "90 -60.17250772536683\n",
      "91 -70.56229221898266\n",
      "92 -79.62093186695783\n",
      "93 -89.99255861194926\n",
      "94 -96.47025613352697\n",
      "95 -96.82795659907148\n",
      "96 -112.17413776232388\n",
      "97 -129.46913933507423\n",
      "98 -129.5150563950265\n",
      "99 -129.4611091806878\n",
      "100 -129.55002301664118\n",
      "[-4.705740538983858, -4.39061300861965, -4.546054038048315, -5.515244778744494, -5.739638738709113, -6.3181645910810245, -7.596445177017918, -8.122105851209263, -8.15576033010127, -8.216895981234073, -8.314023143161517, -9.666518697831652, -9.874890262559308, -9.898846562881412, -9.975500611508322, -9.721425763909725, -9.909943995097363, -10.078915485994056, -10.23559552659378, -10.290896616908366, -10.379000802697119, -10.567941584533198, -10.2852609143111, -10.453224078657131, -10.455082352619742, -10.367797203675334, -10.795569630770354, -10.471950540973548, -10.580785504912862, -10.779800467946965, -10.92449734006671, -10.983778666462936, -11.037150712786268, -10.952760818391047, -11.081636602910093, -11.042924290370129, -12.41276129741769, -12.709732886738582, -12.975601066491382, -13.093159860404679, -13.135487885792646, -13.097796539251362, -13.171170174745082, -13.326543976356968, -13.349713021160017, -13.254435878584394, -13.69425148653427, -13.938396260960072, -14.124231327174897, -14.064229997863212, -13.895157305872312, -14.032417173111014, -14.149671543435508, -14.28870581816221, -14.567845334704547, -15.167126740993927, -15.11391499872155, -15.4824939117272, -15.47086859928076, -15.74081696365729, -15.802177208573758, -17.535472853646848, -17.279151712161326, -17.34319534242834, -17.76849498820467, -18.04811031346278, -18.36356306303253, -19.81718104227209, -20.871694187592883, -23.267506174353677, -23.926052376246606, -25.297884674267735, -28.48520687900149, -28.567907541740045, -29.943878529668808, -30.239239137341293, -30.05494989528347, -30.269847506063293, -30.080381638627195, -33.32338033828603, -39.444790771177004, -42.302055344757655, -47.89214192961701, -50.96964358014878, -52.722204834675566, -59.00031541745403, -60.17250772536683, -70.56229221898266, -79.62093186695783, -89.99255861194926, -96.47025613352697, -96.82795659907148, -112.17413776232388, -129.46913933507423, -129.5150563950265, -129.4611091806878, -129.55002301664118]\n"
     ]
    },
    {
     "data": {
      "text/plain": "SymmetryFinder(cov_adj_score=True, fit_method='sign', la=0.03,\n               select_method='mmd')"
     },
     "execution_count": 78,
     "metadata": {},
     "output_type": "execute_result"
    }
   ],
   "source": [
    "cov = np.cov(data2, rowvar=False)\n",
    "eigen = np.linalg.eig(cov)\n",
    "cov_eigenvalues = np.real(eigen[0])\n",
    "eigenvectors = np.real(eigen[1])\n",
    "mu = np.mean(data2, axis=0)\n",
    "sol = np.linalg.solve(eigenvectors, mu)\n",
    "num_trivial_vectors = np.sum((sol < SymmetryFinder.ignore_threshold) & \\\n",
    "                             (cov_eigenvalues < SymmetryFinder.ignore_threshold))\n",
    "swaps = int((dim[0] * dim[1] - num_trivial_vectors) // 2)\n",
    "# symm = SymmetryFinder(alpha=0.05, fit_method='median', select_method='mean_rotate_bs')\n",
    "symm = SymmetryFinder(fit_method='sign', select_method='mmd', scoring_sig=3, cov_adj_score=True, la=0.03)\n",
    "symm.fit(data2, cov=cov)"
   ],
   "metadata": {
    "collapsed": false
   }
  },
  {
   "cell_type": "code",
   "execution_count": 79,
   "outputs": [],
   "source": [
    "symm.fine_tune(data2, lr=0.0001, bandwidth=10, weight_penalty_adj=200, epochs=20)"
   ],
   "metadata": {
    "collapsed": false
   }
  },
  {
   "cell_type": "code",
   "execution_count": 80,
   "outputs": [
    {
     "data": {
      "text/plain": "<matplotlib.image.AxesImage at 0x25c581cec48>"
     },
     "execution_count": 80,
     "metadata": {},
     "output_type": "execute_result"
    },
    {
     "data": {
      "text/plain": "<Figure size 432x288 with 1 Axes>",
      "image/png": "[encoded data removed]"
     },
     "metadata": {
      "needs_background": "light"
     },
     "output_type": "display_data"
    }
   ],
   "source": [
    "img = symm.eigenvectors_[:, -1].reshape(dim)\n",
    "# np.round(img, 2)\n",
    "plt.imshow(img)"
   ],
   "metadata": {
    "collapsed": false
   }
  },
  {
   "cell_type": "code",
   "execution_count": 81,
   "outputs": [],
   "source": [
    "import math\n",
    "\n",
    "def horiz_flip_gt_accuracy(model):\n",
    "    # flip = transforms.RandomHorizontalFlip(p=1.)\n",
    "    # eigenvector1 = model.eigenvectors_.reshape(dim[0], dim[1], -1)\n",
    "\n",
    "    eigenvectors = model.eigenvectors_.T.reshape(-1, dim[0], dim[1])\n",
    "    diff = np.array([eigenvectors[i].reshape(-1, dim[0]*dim[1]) @ eigenvectors[i,:,::-1].reshape(-1, dim[0]*dim[1]).T for i in range(eigenvectors.shape[0])])\n",
    "    diff = diff.reshape(-1)\n",
    "    diff = np.arccos(diff) * 180/np.pi\n",
    "    # eigenvectors\n",
    "    # eigenvector2 = model.eigenvectors_.reshape(dim[0], dim[1], -1)[:,::-1].reshape(dim[0] * dim[1] ,-1)\n",
    "    # eigenvector1 = model.eigenvectors_\n",
    "    # diff = np.tensordot(eigenvectors, eigenvectors[:,:,::-1], axes=[(1, 2), (1,2)]).diagonal()\n",
    "    # diff = np.array(np.linalg.multi_dot(np.stack((eigenvector2, eigenvector1), axis=1)))\n",
    "    diff[diff > 120] = -1\n",
    "    diff[(120 >= diff) & (diff >= 60)] = 0\n",
    "    diff[(0 < diff) & (diff < 60)] = 1\n",
    "    return np.linalg.norm((diff == model.trans_eigenvalues_), ord=1)/sum((diff != 0)), sum((diff != 0))/len(diff)\n",
    "\n",
    "# my_diff = horiz_flip_gt_accuracy(symm)\n",
    "# print(my_diff)"
   ],
   "metadata": {
    "collapsed": false
   }
  },
  {
   "cell_type": "code",
   "execution_count": 82,
   "outputs": [],
   "source": [
    "# sns.lineplot(range(4,100+1), np.log(-np.array(symm.mmd_errors_)))"
   ],
   "metadata": {
    "collapsed": false
   }
  },
  {
   "cell_type": "code",
   "execution_count": 83,
   "outputs": [
    {
     "data": {
      "text/plain": "(5, 95)"
     },
     "execution_count": 83,
     "metadata": {},
     "output_type": "execute_result"
    }
   ],
   "source": [
    "sum(symm.trans_eigenvalues_ == -1), sum(symm.trans_eigenvalues_ == 1)"
   ],
   "metadata": {
    "collapsed": false
   }
  },
  {
   "cell_type": "code",
   "execution_count": 84,
   "outputs": [],
   "source": [
    "# stats = symm.stats_[~(np.isnan(symm.stats_)|(symm.stats_==0))]\n",
    "# # stats = np.sqrt(symm.cov_eigenvalues_)\n",
    "# sns.distplot(np.log(stats), bins=200)"
   ],
   "metadata": {
    "collapsed": false
   }
  },
  {
   "cell_type": "code",
   "execution_count": 85,
   "outputs": [],
   "source": [
    "# import statistics\n",
    "# stats = symm.stats_[~(np.isnan(symm.stats_)|(symm.stats_==0))]\n",
    "# # stats = np.sqrt(symm.cov_eigenvalues_)\n",
    "# sns.distplot(np.log(stats), bins=200, kde_kws={'bw':0.2})\n",
    "# plt.axvline(statistics.median(np.log(stats)), 0, 1, color='r')\n",
    "# plt.xlim([-20,10])\n",
    "#"
   ],
   "metadata": {
    "collapsed": false
   }
  },
  {
   "cell_type": "code",
   "execution_count": 86,
   "outputs": [],
   "source": [
    "# print(sum(symm.trans_eigenvalues_ == -1))\n",
    "# print(sum(symm.trans_eigenvalues_ == 1))\n",
    "#"
   ],
   "metadata": {
    "collapsed": false
   }
  },
  {
   "cell_type": "code",
   "execution_count": 87,
   "outputs": [],
   "source": [
    "# stats = symm.stats_[~(np.isnan(symm.stats_))]\n",
    "#\n",
    "# eigenvalues = symm.trans_eigenvalues_[~np.isnan(symm.stats_)]\n",
    "#\n",
    "# sns.lineplot(range(len(stats)), np.log(stats), hue=eigenvalues)\n",
    "#\n"
   ],
   "metadata": {
    "collapsed": false
   }
  },
  {
   "cell_type": "code",
   "execution_count": 88,
   "outputs": [],
   "source": [
    "# ax = sns.scatterplot(range(len(stats)), np.log(stats), hue=eigenvalues)\n",
    "# plt.show()\n",
    "#"
   ],
   "metadata": {
    "collapsed": false
   }
  },
  {
   "cell_type": "code",
   "execution_count": 89,
   "outputs": [],
   "source": [
    "# thresh = np.sqrt(np.log(50_000))/np.sqrt(50_000)\n",
    "# print(sum(raw > thresh), sum(raw < thresh))\n",
    "#"
   ],
   "metadata": {
    "collapsed": false
   }
  },
  {
   "cell_type": "code",
   "execution_count": 90,
   "outputs": [],
   "source": [
    "# sols = symm.stats_[~np.isnan(symm.stats_)][100:]\n",
    "# covs = symm.cov_eigenvalues_[~np.isnan(symm.stats_)][100:]\n",
    "# sns.scatterplot(np.log(covs), np.log(np.abs(sols)), hue=eigenvalues[100:],\n",
    "#                 s=10)"
   ],
   "metadata": {
    "collapsed": false
   }
  },
  {
   "cell_type": "code",
   "execution_count": 91,
   "outputs": [],
   "source": [
    "# from sklearn.linear_model import LinearRegression\n",
    "#\n",
    "# linear = LinearRegression()\n",
    "# linear.fit(np.log(covs).reshape(-1, 1), np.log(np.abs(sols)))\n",
    "# print(linear.coef_, linear.intercept_)"
   ],
   "metadata": {
    "collapsed": false
   }
  },
  {
   "cell_type": "code",
   "execution_count": 92,
   "outputs": [],
   "source": [
    "# stats = symm.sol_\n",
    "# # stats = np.sqrt(symm.cov_eigenvalues_)\n",
    "# sns.lineplot(range(len(stats)), np.log(np.abs(stats)))\n",
    "#"
   ],
   "metadata": {
    "collapsed": false
   }
  },
  {
   "cell_type": "code",
   "execution_count": 93,
   "outputs": [
    {
     "name": "stderr",
     "output_type": "stream",
     "text": [
      "C:\\Users\\Work\\Anaconda3\\envs\\Conda_test\\lib\\site-packages\\seaborn\\_decorators.py:43: FutureWarning: Pass the following variables as keyword args: x, y. From version 0.12, the only valid positional argument will be `data`, and passing other arguments without an explicit keyword will result in an error or misinterpretation.\n",
      "  FutureWarning\n"
     ]
    },
    {
     "data": {
      "text/plain": "<AxesSubplot:>"
     },
     "execution_count": 93,
     "metadata": {},
     "output_type": "execute_result"
    },
    {
     "data": {
      "text/plain": "<Figure size 432x288 with 1 Axes>",
      "image/png": "[encoded data removed]"
     },
     "metadata": {
      "needs_background": "light"
     },
     "output_type": "display_data"
    }
   ],
   "source": [
    "stats = np.array(symm.mmd_errors_)\n",
    "sns.lineplot(range(len(stats)), np.log(-stats))"
   ],
   "metadata": {
    "collapsed": false
   }
  },
  {
   "cell_type": "code",
   "execution_count": 94,
   "outputs": [
    {
     "data": {
      "text/plain": "[(0, -4.705740538983858),\n (1, -4.39061300861965),\n (2, -4.546054038048315),\n (3, -5.515244778744494),\n (4, -5.739638738709113),\n (5, -6.3181645910810245),\n (6, -7.596445177017918),\n (7, -8.122105851209263),\n (8, -8.15576033010127),\n (9, -8.216895981234073),\n (10, -8.314023143161517),\n (11, -9.666518697831652),\n (12, -9.874890262559308),\n (13, -9.898846562881412),\n (14, -9.975500611508322),\n (15, -9.721425763909725),\n (16, -9.909943995097363),\n (17, -10.078915485994056),\n (18, -10.23559552659378),\n (19, -10.290896616908366),\n (20, -10.379000802697119),\n (21, -10.567941584533198),\n (22, -10.2852609143111),\n (23, -10.453224078657131),\n (24, -10.455082352619742),\n (25, -10.367797203675334),\n (26, -10.795569630770354),\n (27, -10.471950540973548),\n (28, -10.580785504912862),\n (29, -10.779800467946965),\n (30, -10.92449734006671),\n (31, -10.983778666462936),\n (32, -11.037150712786268),\n (33, -10.952760818391047),\n (34, -11.081636602910093),\n (35, -11.042924290370129),\n (36, -12.41276129741769),\n (37, -12.709732886738582),\n (38, -12.975601066491382),\n (39, -13.093159860404679),\n (40, -13.135487885792646),\n (41, -13.097796539251362),\n (42, -13.171170174745082),\n (43, -13.326543976356968),\n (44, -13.349713021160017),\n (45, -13.254435878584394),\n (46, -13.69425148653427),\n (47, -13.938396260960072),\n (48, -14.124231327174897),\n (49, -14.064229997863212),\n (50, -13.895157305872312),\n (51, -14.032417173111014),\n (52, -14.149671543435508),\n (53, -14.28870581816221),\n (54, -14.567845334704547),\n (55, -15.167126740993927),\n (56, -15.11391499872155),\n (57, -15.4824939117272),\n (58, -15.47086859928076),\n (59, -15.74081696365729),\n (60, -15.802177208573758),\n (61, -17.535472853646848),\n (62, -17.279151712161326),\n (63, -17.34319534242834),\n (64, -17.76849498820467),\n (65, -18.04811031346278),\n (66, -18.36356306303253),\n (67, -19.81718104227209),\n (68, -20.871694187592883),\n (69, -23.267506174353677),\n (70, -23.926052376246606),\n (71, -25.297884674267735),\n (72, -28.48520687900149),\n (73, -28.567907541740045),\n (74, -29.943878529668808),\n (75, -30.239239137341293),\n (76, -30.05494989528347),\n (77, -30.269847506063293),\n (78, -30.080381638627195),\n (79, -33.32338033828603),\n (80, -39.444790771177004),\n (81, -42.302055344757655),\n (82, -47.89214192961701),\n (83, -50.96964358014878),\n (84, -52.722204834675566),\n (85, -59.00031541745403),\n (86, -60.17250772536683),\n (87, -70.56229221898266),\n (88, -79.62093186695783),\n (89, -89.99255861194926),\n (90, -96.47025613352697),\n (91, -96.82795659907148),\n (92, -112.17413776232388),\n (93, -129.46913933507423),\n (94, -129.5150563950265),\n (95, -129.4611091806878),\n (96, -129.55002301664118)]"
     },
     "execution_count": 94,
     "metadata": {},
     "output_type": "execute_result"
    }
   ],
   "source": [
    "\n",
    "[(i, x) for i, x in enumerate(symm.mmd_errors_)]"
   ],
   "metadata": {
    "collapsed": false
   }
  },
  {
   "cell_type": "code",
   "execution_count": 95,
   "outputs": [
    {
     "data": {
      "text/plain": "<Figure size 432x288 with 4 Axes>",
      "image/png": "[encoded data removed]"
     },
     "metadata": {
      "needs_background": "light"
     },
     "output_type": "display_data"
    }
   ],
   "source": [
    "\n",
    "orig_img = data2[15]\n",
    "fig, ax = plt.subplots(1,4)\n",
    "img1 = orig_img.reshape(dim) * 255\n",
    "ax[0].imshow(img1, cmap='gray')\n",
    "img2 = (np.clip(orig_img @ symm.trans_, 0, 1)).reshape(dim) * 255\n",
    "ax[1].imshow(img2, cmap='gray')\n",
    "img3 = (np.clip(symm.predict(orig_img), 0, 1)).reshape(dim) * 255\n",
    "ax[2].imshow(img3, cmap='gray')\n",
    "img3 = (symm.predict(orig_img)).reshape(dim) * 255\n",
    "ax[3].imshow(img3, cmap='gray')\n",
    "\n",
    "plt.show()"
   ],
   "metadata": {
    "collapsed": false
   }
  },
  {
   "cell_type": "code",
   "execution_count": 96,
   "outputs": [],
   "source": [
    "symm.select_method = 65\n",
    "sum(symm.trans_eigenvalues_ == -1), sum(symm.trans_eigenvalues_ == 1)\n",
    "symm.fine_tune(data2, lr=0.01, bandwidth=10, weight_penalty_adj=200, epochs=20)\n"
   ],
   "metadata": {
    "collapsed": false
   }
  },
  {
   "cell_type": "code",
   "execution_count": 97,
   "outputs": [
    {
     "data": {
      "text/plain": "<Figure size 432x288 with 4 Axes>",
      "image/png": "[encoded data removed]"
     },
     "metadata": {
      "needs_background": "light"
     },
     "output_type": "display_data"
    }
   ],
   "source": [
    "orig_img = data2[6]\n",
    "fig, ax = plt.subplots(1,4)\n",
    "img1 = orig_img.reshape(dim) * 255\n",
    "ax[0].imshow(img1, cmap='gray')\n",
    "img2 = (orig_img @ symm.trans_).reshape(dim) * 255\n",
    "ax[1].imshow(img2, cmap='gray')\n",
    "img3 = (np.clip(orig_img @ symm.trans_, 0, 1)).reshape(dim) * 255\n",
    "ax[2].imshow(img3, cmap='gray')\n",
    "img4 = (np.clip(symm.predict(orig_img), 0, 1)).reshape(dim) * 255\n",
    "ax[3].imshow(img4, cmap='gray')\n",
    "\n",
    "plt.show()"
   ],
   "metadata": {
    "collapsed": false
   }
  },
  {
   "cell_type": "code",
   "execution_count": 98,
   "outputs": [
    {
     "data": {
      "text/plain": "<Figure size 360x720 with 72 Axes>",
      "image/png": "[encoded data removed]"
     },
     "metadata": {
      "needs_background": "light"
     },
     "output_type": "display_data"
    }
   ],
   "source": [
    "rows = 12\n",
    "models = [0, 13, 23, 45, 65, 89]\n",
    "fig, ax = plt.subplots(rows, len(models), figsize=(5, 10))\n",
    "\n",
    "fig.subplots_adjust(hspace=0, wspace=0)\n",
    "for j in range(rows):\n",
    "    orig_img = data2[5 * j]\n",
    "    for i, model_size in enumerate(models):\n",
    "        symm.select_method = model_size\n",
    "        # sum(symm.trans_eigenvalues_ == -1), sum(symm.trans_eigenvalues_ == 1)\n",
    "        # symm.fine_tune(data2, lr=0.0001, bandwidth=10, weight_penalty_adj=200, epochs=20)\n",
    "\n",
    "        # img1 = orig_img.reshape(dim) * 255\n",
    "        # ax[i, 0].imshow(img1, cmap='gray')\n",
    "        # ax[i, 0].axis('off')\n",
    "        # img0 = (orig_img @ symm.trans_).reshape(dim) * 255\n",
    "        # ax[0, i].imshow(img0, cmap='gray')\n",
    "        # ax[0, i].axis('off')\n",
    "        img = (np.clip(orig_img @ symm.trans_, 0, 1)).reshape(dim) * 255\n",
    "        ax[j, i].imshow(img, cmap='gray')\n",
    "        ax[j, i].axis('off')\n",
    "        # img4 = (np.clip(symm.predict(orig_img), 0, 1)).reshape(dim) * 255\n",
    "        # ax[i, 3].imshow(img4, cmap='gray')\n",
    "\n",
    "plt.show()"
   ],
   "metadata": {
    "collapsed": false
   }
  },
  {
   "cell_type": "code",
   "execution_count": 99,
   "outputs": [
    {
     "data": {
      "text/plain": "<Figure size 360x720 with 72 Axes>",
      "image/png": "[encoded data removed]"
     },
     "metadata": {
      "needs_background": "light"
     },
     "output_type": "display_data"
    }
   ],
   "source": [
    "rows = 12\n",
    "models = [0, 10, 20, 40, 60, 80]\n",
    "fig, ax = plt.subplots(rows, len(models), figsize=(5, 10))\n",
    "\n",
    "fig.subplots_adjust(hspace=0, wspace=0)\n",
    "for j in range(rows):\n",
    "    orig_img = data2[1 + 5 * j]\n",
    "    for i, model_size in enumerate(models):\n",
    "        symm.select_method = model_size\n",
    "        # sum(symm.trans_eigenvalues_ == -1), sum(symm.trans_eigenvalues_ == 1)\n",
    "        # symm.fine_tune(data2, lr=0.0001, bandwidth=10, weight_penalty_adj=200, epochs=20)\n",
    "\n",
    "        # img1 = orig_img.reshape(dim) * 255\n",
    "        # ax[i, 0].imshow(img1, cmap='gray')\n",
    "        # ax[i, 0].axis('off')\n",
    "        # img0 = (orig_img @ symm.trans_).reshape(dim) * 255\n",
    "        # ax[0, i].imshow(img0, cmap='gray')\n",
    "        # ax[0, i].axis('off')\n",
    "        img = (orig_img @ symm.trans_).reshape(dim) * 255\n",
    "        ax[j, i].imshow(img, cmap='gray')\n",
    "        ax[j, i].axis('off')\n",
    "        # img4 = (np.clip(symm.predict(orig_img), 0, 1)).reshape(dim) * 255\n",
    "        # ax[i, 3].imshow(img4, cmap='gray')\n",
    "# fig.savefig(\"6s\")\n",
    "plt.show()"
   ],
   "metadata": {
    "collapsed": false
   }
  },
  {
   "cell_type": "code",
   "execution_count": 115,
   "outputs": [],
   "source": [
    "# import dill\n",
    "#\n",
    "# with open(\"symm_net.pkl\", \"bw\") as f:\n",
    "#     dill.dump(symm, f)\n"
   ],
   "metadata": {
    "collapsed": false
   }
  },
  {
   "cell_type": "code",
   "execution_count": 100,
   "outputs": [],
   "source": [
    "# np.linalg.norm(symm.trans_ - symm.ft_trans_)\n",
    "#"
   ],
   "metadata": {
    "collapsed": false
   }
  },
  {
   "cell_type": "code",
   "execution_count": 101,
   "outputs": [],
   "source": [
    "# np.linalg.norm(symm.trans_)\n",
    "#"
   ],
   "metadata": {
    "collapsed": false
   }
  },
  {
   "cell_type": "code",
   "execution_count": 102,
   "outputs": [],
   "source": [
    "# img = symm.trans_\n",
    "# fig, ax = plt.subplots(figsize=(10, 8))\n",
    "# plt.imshow(img)\n",
    "# ax.set_xticks(np.arange(-0.5, dim[0]*dim[1], dim[0]))\n",
    "# ax.set_yticks(np.arange(-0.5, dim[0]*dim[1], dim[0]))\n",
    "# # ax.xaxis.set_major_locator(MultipleLocator(dim[0]))\n",
    "# # ax.yaxis.set_major_locator(MultipleLocator(dim[0]))\n",
    "# plt.grid()\n",
    "# plt.show()\n",
    "# # imshow(new_mat)\n",
    "#\n",
    "#"
   ],
   "metadata": {
    "collapsed": false
   }
  },
  {
   "cell_type": "code",
   "execution_count": 103,
   "outputs": [],
   "source": [
    "# orig_img = data2[1]\n",
    "# fig, ax = plt.subplots(1,2)\n",
    "# img1 = orig_img.reshape(dim) * 255\n",
    "# ax[0].imshow(img1, cmap='gray')\n",
    "# img2 = (symm.trans_ @ orig_img).reshape(dim) * 255\n",
    "# ax[1].imshow(img2, cmap='gray')\n",
    "#\n",
    "# plt.show()\n",
    "#"
   ],
   "metadata": {
    "collapsed": false
   }
  },
  {
   "cell_type": "code",
   "execution_count": 104,
   "outputs": [],
   "source": [
    "# # changed_eigenvalues = copy(symm.trans_eigenvalues_)\n",
    "# # changed_eigenvalues[1] = 1\n",
    "# # changed_eigenvalues[3] = 1\n",
    "# # changed_eigenvalues[6] = 1\n",
    "# # changed_eigenvalues[7] = 1\n",
    "# # changed_eigenvalues[8] = 1\n",
    "# # new_trans = symm.eigenvectors_ @ np.diag(changed_eigenvalues) @ symm.eigenvectors_.T\n",
    "# #\n",
    "# # fig, ax = plt.subplots(1,2)\n",
    "# # img1 = orig_img.reshape(dim) * 255\n",
    "# # ax[0].imshow(img1, cmap='gray')\n",
    "# # img2 = (new_trans @ orig_img).reshape(dim) * 255\n",
    "# # ax[1].imshow(img2, cmap='gray')\n",
    "# #\n",
    "# # plt.show()\n",
    "#"
   ],
   "metadata": {
    "collapsed": false
   }
  },
  {
   "cell_type": "code",
   "execution_count": 105,
   "outputs": [],
   "source": [
    "# testset[0]\n",
    "#\n",
    "#"
   ],
   "metadata": {
    "collapsed": false
   }
  },
  {
   "cell_type": "code",
   "execution_count": 106,
   "outputs": [],
   "source": [
    "# full_train = torchvision.datasets.MNIST(root='./data', train=True,\n",
    "#                                         download=True, transform=transform)\n",
    "#\n",
    "#\n",
    "#"
   ],
   "metadata": {
    "collapsed": false
   }
  },
  {
   "cell_type": "code",
   "execution_count": 107,
   "outputs": [],
   "source": [
    "# imshow(full_train[0][0])\n",
    "#"
   ],
   "metadata": {
    "collapsed": false
   }
  },
  {
   "cell_type": "code",
   "execution_count": 108,
   "outputs": [],
   "source": [
    "# imshow(new_mat @ full_train[0][0])\n",
    "#\n",
    "#"
   ],
   "metadata": {
    "collapsed": false
   }
  },
  {
   "cell_type": "code",
   "execution_count": 109,
   "outputs": [],
   "source": [
    "\n",
    "\n",
    "# img = new_mat\n",
    "# fig, ax = plt.subplots(figsize=(10, 8))\n",
    "# plt.imshow(img)\n",
    "# # ax.set_xticks(np.arange(0, 101, 10))\n",
    "# # ax.set_yticks(np.arange(0, 101, 10))\n",
    "# ax.xaxis.set_major_locator(MultipleLocator(10))\n",
    "# ax.yaxis.set_major_locator(MultipleLocator(10))\n",
    "# plt.grid()\n",
    "# plt.show()\n",
    "# # imshow(new_mat)\n",
    "#"
   ],
   "metadata": {
    "collapsed": false
   }
  },
  {
   "cell_type": "code",
   "execution_count": 110,
   "outputs": [],
   "source": [
    "# data_points = []\n",
    "# eig1 = symm.eigenvectors_[:, 0]\n",
    "# eig2 = symm.eigenvectors_[:, 1]\n",
    "# xs = []\n",
    "# ys = []\n",
    "# for i, (x, target) in enumerate(trainset):\n",
    "#     xs.append(x @ eig1)\n",
    "#     ys.append(x @ eig2)\n",
    "# sns.scatterplot(xs, ys)\n",
    "#\n",
    "#"
   ],
   "metadata": {
    "collapsed": false
   }
  },
  {
   "cell_type": "code",
   "execution_count": 111,
   "outputs": [],
   "source": [
    "# np.array([[0, 1], [2, 3]]) - np.array([5, 10])\n",
    "#"
   ],
   "metadata": {
    "collapsed": false
   }
  },
  {
   "cell_type": "code",
   "execution_count": 112,
   "outputs": [],
   "source": [
    "# from sklearn.neighbors import NearestNeighbors\n",
    "#\n",
    "# base_eles = np.array([[0, 1], [1, 0]], dtype=np.float)\n",
    "# eles_2 = np.array([[2, 1], [.5, 1]], dtype=np.float)\n",
    "# nearest_neighbor = NearestNeighbors(n_neighbors=1)\n",
    "# nearest_neighbor.fit(base_eles)\n",
    "# dists, corr = nearest_neighbor.kneighbors(eles_2)\n",
    "# print(dists, corr)\n",
    "# print(dists[corr])\n",
    "#"
   ],
   "metadata": {
    "collapsed": false
   }
  },
  {
   "cell_type": "code",
   "execution_count": 113,
   "outputs": [],
   "source": [
    "# np.stack([np.array([0, 1]), np.array([5, 10])])\n",
    "#"
   ],
   "metadata": {
    "collapsed": false
   }
  },
  {
   "cell_type": "code",
   "execution_count": 114,
   "outputs": [],
   "source": [
    "# np.sort(eles_2, axis=0)"
   ],
   "metadata": {
    "collapsed": false
   }
  },
  {
   "cell_type": "code",
   "execution_count": 114,
   "outputs": [],
   "source": [],
   "metadata": {
    "collapsed": false
   }
  }
 ],
 "metadata": {
  "kernelspec": {
   "display_name": "Python 3",
   "language": "python",
   "name": "python3"
  },
  "language_info": {
   "codemirror_mode": {
    "name": "ipython",
    "version": 2
   },
   "file_extension": ".py",
   "mimetype": "text/x-python",
   "name": "python",
   "nbconvert_exporter": "python",
   "pygments_lexer": "ipython2",
   "version": "2.7.6"
  }
 },
 "nbformat": 4,
 "nbformat_minor": 0
}
