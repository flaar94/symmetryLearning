{
 "cells": [
  {
   "cell_type": "code",
   "execution_count": null,
   "outputs": [],
   "source": [
    "import torch\n",
    "import torch.nn as nn\n",
    "import torch.nn.functional as F\n",
    "import torch.optim as optim\n",
    "from torch.utils.data import Dataset\n",
    "import numpy as np\n",
    "from numpy.random import default_rng\n",
    "from core import train_unsup\n",
    "rng = default_rng()\n",
    "device = torch.device(\"cuda:0\" if True else \"cpu\")\n",
    "DATA_PATH = '../data/gumbel_dataset.npy'"
   ],
   "metadata": {
    "collapsed": false
   }
  },
  {
   "cell_type": "code",
   "execution_count": 2,
   "outputs": [],
   "source": [
    "class TrainSet(torch.utils.data.Dataset):\n",
    "    def __init__(self, path, transform=None):\n",
    "        super().__init__()\n",
    "        self.path = path\n",
    "        self.data = np.load(path)\n",
    "        self.rows = self.data.shape[0]\n",
    "        self.cols = self.data.shape[1]\n",
    "        self.transform = transform\n",
    "\n",
    "    def __len__(self):\n",
    "        return self.rows\n",
    "\n",
    "    def __getitem__(self, idx):\n",
    "        sample = torch.tensor(self.data[idx], dtype=torch.float)\n",
    "        if self.transform:\n",
    "            sample = self.transform(sample)\n",
    "\n",
    "        return sample\n",
    "\n",
    "trainset = TrainSet(DATA_PATH)"
   ],
   "metadata": {
    "collapsed": false
   }
  },
  {
   "cell_type": "code",
   "execution_count": 3,
   "outputs": [],
   "source": [
    "\n",
    "class Net(nn.Module):\n",
    "    def __init__(self):\n",
    "        super(Net, self).__init__()\n",
    "        self.fc1 = nn.Linear(trainset.cols, trainset.cols, bias=False)\n",
    "        # self.trans = torch.diag(torch.tensor([-1 if k < 28*28/2 else 1 for k in range(28*28)], dtype=torch.float))\n",
    "        # self.trans = torch.diag(torch.tensor([-1 if i < 28 * 28 / 2 else 1 for i in range(28 * 28)],\n",
    "        #                                      dtype=torch.float, requires_grad=False))\n",
    "        self.trans = torch.block_diag(*[torch.tensor([[0, 1], [1, 0]], dtype=torch.float) for _ in range(trainset.cols // 2)])\n",
    "        # torch.nn.init.uniform_(self.fc1.weight, -10 ** -4, 10 ** -4)\n",
    "        # self.fc1.weight += torch.eye(28, 28).view(-1)\n",
    "\n",
    "\n",
    "    def forward(self, x):\n",
    "        # x = x.view(-1, 28 * 28)\n",
    "        x = self.fc1(x)\n",
    "        # y = x\n",
    "\n",
    "        x = F.linear(x, self.trans)\n",
    "\n",
    "        # y = F.linear(y, self.fc1.weight.t())\n",
    "        x = F.linear(x, self.fc1.weight.t())\n",
    "\n",
    "        # y = y.view(-1, 1, 28, 28)\n",
    "        # x = x.view(-1, 1, 28, 28)\n",
    "        return x #, y\n",
    "\n",
    "def init_weights(m):\n",
    "    if type(m) == nn.Linear:\n",
    "        # torch.nn.init.uniform_(m.weight, -10 ** -4, 10 ** -4)\n",
    "        torch.nn.init.orthogonal_(m.weight)\n",
    "        # with torch.no_grad():\n",
    "        #     m.weight += torch.eye(28 * 28)\n"
   ],
   "metadata": {
    "collapsed": false
   }
  },
  {
   "cell_type": "code",
   "execution_count": 4,
   "outputs": [],
   "source": [
    "def split(X):\n",
    "    return X[:X.shape[0]//2], X[X.shape[0]//2:]\n",
    "\n",
    "def se_kernel(X, Y, sig2=1):\n",
    "    X_norms =  torch.mean(X ** 2, dim=1)\n",
    "    Y_norms = torch.mean(Y ** 2, dim=1)\n",
    "    # print(torch.exp(X_norms.unsqueeze(1) / (2 * sig2)).shape, torch.exp(Y_norms.unsqueeze(0) / (2 * sig2)).shape)\n",
    "    # print(X.shape, Y.shape)\n",
    "    return torch.exp(X @ Y.t() / (2 * sig2)) / (torch.exp(X_norms.unsqueeze(1) / (2 * sig2)) @\n",
    "                                                torch.exp(Y_norms.unsqueeze(0) / (2 * sig2))) * sig2\n",
    "\n",
    "def poly_kernel(X, Y, r=1, m=2, gamma=0.01):\n",
    "    return (r + gamma * X @ Y.t()) ** m\n",
    "\n",
    "\n",
    "class MMDLoss(nn.Module):\n",
    "    def __init__(self, kernel = se_kernel, **kwargs):\n",
    "        super().__init__()\n",
    "        self.kernel = kernel\n",
    "        self.kwargs = kwargs\n",
    "\n",
    "    def forward(self, X, Y):\n",
    "        kernel_dists = self.kernel(X, X, **self.kwargs) + self.kernel(Y, Y, **self.kwargs) - 2 * self.kernel(X, Y, **self.kwargs)\n",
    "        loss = torch.mean(kernel_dists)\n",
    "        return loss\n",
    "\n",
    "class SplitMMDLoss(nn.Module):\n",
    "    def __init__(self, kernel = se_kernel, **kwargs):\n",
    "        super().__init__()\n",
    "        self.kernel = kernel\n",
    "        self.kwargs = kwargs\n",
    "\n",
    "    def forward(self, X, Y):\n",
    "        X1, X2 = split(X)\n",
    "        Y1, Y2 = split(Y)\n",
    "        kernel_dists = self.kernel(X1, X2, **self.kwargs) + self.kernel(Y1, Y2, **self.kwargs) - \\\n",
    "                       self.kernel(X1, Y2, **self.kwargs) - self.kernel(X2, Y1, **self.kwargs)\n",
    "        loss = torch.mean(kernel_dists)\n",
    "        return loss\n",
    "\n",
    "class DebiasedMMDLoss(nn.Module):\n",
    "    def __init__(self, kernel = se_kernel, **kwargs):\n",
    "        super().__init__()\n",
    "        self.kernel = kernel\n",
    "        self.kwargs = kwargs\n",
    "\n",
    "    def forward(self, X, Y):\n",
    "        kernel_dists = self.kernel(X, X, **self.kwargs) + self.kernel(Y, Y, **self.kwargs) - 2 * self.kernel(X, Y, **self.kwargs)\n",
    "        mask = torch.eye(*kernel_dists.shape, device=kernel_dists.device).byte()\n",
    "        kernel_dists.masked_fill_(mask, 0)\n",
    "        loss = torch.mean(kernel_dists)\n",
    "        return loss\n"
   ],
   "metadata": {
    "collapsed": false
   }
  },
  {
   "cell_type": "code",
   "execution_count": 5,
   "outputs": [],
   "source": [
    "BATCH_SIZE = 512\n",
    "trainloader = torch.utils.data.DataLoader(trainset, batch_size=BATCH_SIZE,\n",
    "                                          shuffle=True, pin_memory=True)\n",
    "# criterion = SplitMMDLoss(sig2=100)\n",
    "# criterion = DebiasedMMDLoss(kernel = se_kernel, sig2=100)\n",
    "criterion = DebiasedMMDLoss(kernel = poly_kernel, r=1, m=2, gamma=0.3)\n",
    "weight_criterion = nn.MSELoss()\n",
    "\n",
    "stride = len(trainset) // (BATCH_SIZE * 3)"
   ],
   "metadata": {
    "collapsed": false
   }
  },
  {
   "cell_type": "code",
   "execution_count": 40,
   "outputs": [
    {
     "name": "stdout",
     "output_type": "stream",
     "text": [
      "Preventing Windows from going to sleep\n",
      "[41, 130] loss: 0.2654, ortho_loss: 0.0011, ground_truth_loss: 0.4386, base change det: -0.99\n",
      "[41, 260] loss: 0.3351, ortho_loss: 0.0010, ground_truth_loss: 0.4384, base change det: -0.99\n",
      "[41, 390] loss: 0.3829, ortho_loss: 0.0010, ground_truth_loss: 0.4386, base change det: -0.99\n",
      "total error = 0.3199\n",
      "Finished epoch, cumulative time: 105.2368733882904s\n",
      "[46, 130] loss: 0.2042, ortho_loss: 0.0010, ground_truth_loss: 0.4409, base change det: -0.99\n",
      "[46, 260] loss: 0.3821, ortho_loss: 0.0010, ground_truth_loss: 0.4405, base change det: -0.99\n",
      "[46, 390] loss: 0.2941, ortho_loss: 0.0009, ground_truth_loss: 0.4407, base change det: -0.99\n",
      "total error = 0.2947\n",
      "Finished epoch, cumulative time: 118.05787444114685s\n",
      "[51, 130] loss: 0.4463, ortho_loss: 0.0010, ground_truth_loss: 0.4409, base change det: -0.99\n",
      "[51, 260] loss: 0.4096, ortho_loss: 0.0011, ground_truth_loss: 0.4415, base change det: -0.99\n",
      "[51, 390] loss: 0.1976, ortho_loss: 0.0009, ground_truth_loss: 0.4417, base change det: -0.99\n",
      "total error = 0.3209\n",
      "Finished epoch, cumulative time: 130.8488748073578s\n",
      "[56, 130] loss: 0.2976, ortho_loss: 0.0010, ground_truth_loss: 0.4418, base change det: -0.99\n",
      "[56, 260] loss: 0.2642, ortho_loss: 0.0009, ground_truth_loss: 0.4422, base change det: -0.99\n",
      "[56, 390] loss: 0.3174, ortho_loss: 0.0008, ground_truth_loss: 0.4421, base change det: -0.99\n",
      "total error = 0.3112\n",
      "Finished epoch, cumulative time: 143.69787454605103s\n",
      "[61, 130] loss: 0.3085, ortho_loss: 0.0008, ground_truth_loss: 0.4426, base change det: -0.99\n",
      "[61, 260] loss: 0.4180, ortho_loss: 0.0010, ground_truth_loss: 0.4421, base change det: -0.99\n",
      "[61, 390] loss: 0.3226, ortho_loss: 0.0009, ground_truth_loss: 0.4425, base change det: -0.99\n",
      "total error = 0.3325\n",
      "Finished epoch, cumulative time: 156.42087483406067s\n",
      "[66, 130] loss: 0.2861, ortho_loss: 0.0008, ground_truth_loss: 0.4424, base change det: -0.99\n",
      "[66, 260] loss: 0.2772, ortho_loss: 0.0009, ground_truth_loss: 0.4427, base change det: -0.99\n",
      "[66, 390] loss: 0.2124, ortho_loss: 0.0010, ground_truth_loss: 0.4427, base change det: -0.99\n",
      "total error = 0.2953\n",
      "Finished epoch, cumulative time: 169.12687516212463s\n",
      "[71, 130] loss: 0.3242, ortho_loss: 0.0009, ground_truth_loss: 0.4419, base change det: -0.99\n",
      "[71, 260] loss: 0.2723, ortho_loss: 0.0009, ground_truth_loss: 0.4423, base change det: -0.99\n",
      "[71, 390] loss: 0.2810, ortho_loss: 0.0009, ground_truth_loss: 0.4427, base change det: -0.99\n",
      "total error = 0.2918\n",
      "Finished epoch, cumulative time: 181.90682816505432s\n",
      "[76, 130] loss: 0.3213, ortho_loss: 0.0011, ground_truth_loss: 0.4423, base change det: -0.99\n",
      "[76, 260] loss: 0.3084, ortho_loss: 0.0010, ground_truth_loss: 0.4426, base change det: -0.99\n",
      "[76, 390] loss: 0.3581, ortho_loss: 0.0009, ground_truth_loss: 0.4427, base change det: -0.99\n",
      "total error = 0.3175\n",
      "Finished epoch, cumulative time: 194.65482449531555s\n",
      "[81, 130] loss: 0.2397, ortho_loss: 0.0009, ground_truth_loss: 0.4427, base change det: -0.99\n",
      "[81, 260] loss: 0.2925, ortho_loss: 0.0008, ground_truth_loss: 0.4426, base change det: -0.99\n",
      "[81, 390] loss: 0.2226, ortho_loss: 0.0010, ground_truth_loss: 0.4422, base change det: -0.99\n",
      "total error = 0.2733\n",
      "Finished epoch, cumulative time: 207.37682366371155s\n",
      "[86, 130] loss: 0.3023, ortho_loss: 0.0009, ground_truth_loss: 0.4425, base change det: -0.99\n",
      "[86, 260] loss: 0.3052, ortho_loss: 0.0010, ground_truth_loss: 0.4417, base change det: -0.99\n",
      "[86, 390] loss: 0.3822, ortho_loss: 0.0010, ground_truth_loss: 0.4420, base change det: -0.99\n",
      "total error = 0.2877\n",
      "Finished epoch, cumulative time: 220.1397876739502s\n",
      "[91, 130] loss: 0.2573, ortho_loss: 0.0010, ground_truth_loss: 0.4419, base change det: -0.99\n",
      "[91, 260] loss: 0.2901, ortho_loss: 0.0010, ground_truth_loss: 0.4425, base change det: -0.99\n",
      "[91, 390] loss: 0.4085, ortho_loss: 0.0008, ground_truth_loss: 0.4423, base change det: -0.99\n",
      "total error = 0.2913\n",
      "Finished epoch, cumulative time: 233.0207450389862s\n",
      "[96, 130] loss: 0.4268, ortho_loss: 0.0008, ground_truth_loss: 0.4429, base change det: -0.99\n",
      "[96, 260] loss: 0.2656, ortho_loss: 0.0009, ground_truth_loss: 0.4424, base change det: -0.99\n",
      "[96, 390] loss: 0.3498, ortho_loss: 0.0012, ground_truth_loss: 0.4425, base change det: -0.99\n",
      "total error = 0.2849\n",
      "Finished epoch, cumulative time: 245.74770069122314s\n",
      "[101, 130] loss: 0.2664, ortho_loss: 0.0011, ground_truth_loss: 0.4427, base change det: -0.99\n",
      "[101, 260] loss: 0.4166, ortho_loss: 0.0011, ground_truth_loss: 0.4420, base change det: -0.99\n",
      "[101, 390] loss: 0.3932, ortho_loss: 0.0012, ground_truth_loss: 0.4419, base change det: -0.99\n",
      "total error = 0.2896\n",
      "Finished epoch, cumulative time: 258.4737379550934s\n",
      "[106, 130] loss: 0.2698, ortho_loss: 0.0009, ground_truth_loss: 0.4425, base change det: -0.99\n",
      "[106, 260] loss: 0.2770, ortho_loss: 0.0009, ground_truth_loss: 0.4426, base change det: -0.99\n",
      "[106, 390] loss: 0.3878, ortho_loss: 0.0010, ground_truth_loss: 0.4421, base change det: -0.99\n",
      "total error = 0.2829\n",
      "Finished epoch, cumulative time: 271.83674144744873s\n",
      "Allowing Windows to go to sleep\n"
     ]
    },
    {
     "name": "stderr",
     "output_type": "stream",
     "text": [
      "C:\\Users\\Work\\Anaconda3\\envs\\Conda_test\\lib\\site-packages\\ipykernel_launcher.py:50: UserWarning: masked_fill_ received a mask with dtype torch.uint8, this behavior is now deprecated,please use a mask with dtype torch.bool instead. (Triggered internally at  ..\\aten\\src\\ATen\\native\\cuda\\LegacyDefinitions.cpp:28.)\n"
     ]
    },
    {
     "ename": "KeyboardInterrupt",
     "evalue": "",
     "output_type": "error",
     "traceback": [
      "\u001B[1;31m---------------------------------------------------------------------------\u001B[0m",
      "\u001B[1;31mKeyboardInterrupt\u001B[0m                         Traceback (most recent call last)",
      "\u001B[1;32m<ipython-input-40-f8412a2cb271>\u001B[0m in \u001B[0;36m<module>\u001B[1;34m\u001B[0m\n\u001B[0;32m      3\u001B[0m                 \u001B[0muse_saved\u001B[0m\u001B[1;33m=\u001B[0m\u001B[1;32mTrue\u001B[0m\u001B[1;33m,\u001B[0m \u001B[0merror_display_stride\u001B[0m\u001B[1;33m=\u001B[0m\u001B[1;36m5\u001B[0m\u001B[1;33m,\u001B[0m \u001B[0minter_error_stride\u001B[0m\u001B[1;33m=\u001B[0m\u001B[0mstride\u001B[0m\u001B[1;33m,\u001B[0m \u001B[0mepochs\u001B[0m\u001B[1;33m=\u001B[0m\u001B[1;36m1_000\u001B[0m\u001B[1;33m,\u001B[0m\u001B[1;33m\u001B[0m\u001B[1;33m\u001B[0m\u001B[0m\n\u001B[0;32m      4\u001B[0m                 \u001B[0moptimizer_params\u001B[0m\u001B[1;33m=\u001B[0m\u001B[1;33m{\u001B[0m\u001B[1;34m'lr'\u001B[0m\u001B[1;33m:\u001B[0m \u001B[1;36m0.0001\u001B[0m\u001B[1;33m,\u001B[0m \u001B[1;34m'momentum'\u001B[0m\u001B[1;33m:\u001B[0m \u001B[1;36m0.5\u001B[0m\u001B[1;33m,\u001B[0m \u001B[1;34m'weight_decay'\u001B[0m\u001B[1;33m:\u001B[0m \u001B[1;36m0\u001B[0m\u001B[1;33m}\u001B[0m\u001B[1;33m,\u001B[0m\u001B[1;33m\u001B[0m\u001B[1;33m\u001B[0m\u001B[0m\n\u001B[1;32m----> 5\u001B[1;33m                 weight_penalty_adj=100)\n\u001B[0m\u001B[0;32m      6\u001B[0m \u001B[1;33m\u001B[0m\u001B[0m\n\u001B[0;32m      7\u001B[0m \u001B[1;33m\u001B[0m\u001B[0m\n",
      "\u001B[1;32m~\\PycharmProjects\\Conda_test\\group_action_learning\\core.py\u001B[0m in \u001B[0;36mtrain_unsup\u001B[1;34m(trainloader, Model, device, Optimizer, criterion, weight_criterion, init, use_saved, epochs, save_file, error_display_stride, inter_error_stride, optimizer_params, weight_penalty_adj)\u001B[0m\n\u001B[0;32m     67\u001B[0m                 \u001B[0mtrue_train_total\u001B[0m \u001B[1;33m+=\u001B[0m \u001B[1;36m1\u001B[0m\u001B[1;33m\u001B[0m\u001B[1;33m\u001B[0m\u001B[0m\n\u001B[0;32m     68\u001B[0m \u001B[1;33m\u001B[0m\u001B[0m\n\u001B[1;32m---> 69\u001B[1;33m                 \u001B[0mloss\u001B[0m\u001B[1;33m.\u001B[0m\u001B[0mbackward\u001B[0m\u001B[1;33m(\u001B[0m\u001B[1;33m)\u001B[0m\u001B[1;33m\u001B[0m\u001B[1;33m\u001B[0m\u001B[0m\n\u001B[0m\u001B[0;32m     70\u001B[0m                 \u001B[0moptimizer\u001B[0m\u001B[1;33m.\u001B[0m\u001B[0mstep\u001B[0m\u001B[1;33m(\u001B[0m\u001B[1;33m)\u001B[0m\u001B[1;33m\u001B[0m\u001B[1;33m\u001B[0m\u001B[0m\n\u001B[0;32m     71\u001B[0m \u001B[1;33m\u001B[0m\u001B[0m\n",
      "\u001B[1;32m~\\Anaconda3\\envs\\Conda_test\\lib\\site-packages\\torch\\tensor.py\u001B[0m in \u001B[0;36mbackward\u001B[1;34m(self, gradient, retain_graph, create_graph)\u001B[0m\n\u001B[0;32m    219\u001B[0m                 \u001B[0mretain_graph\u001B[0m\u001B[1;33m=\u001B[0m\u001B[0mretain_graph\u001B[0m\u001B[1;33m,\u001B[0m\u001B[1;33m\u001B[0m\u001B[1;33m\u001B[0m\u001B[0m\n\u001B[0;32m    220\u001B[0m                 create_graph=create_graph)\n\u001B[1;32m--> 221\u001B[1;33m         \u001B[0mtorch\u001B[0m\u001B[1;33m.\u001B[0m\u001B[0mautograd\u001B[0m\u001B[1;33m.\u001B[0m\u001B[0mbackward\u001B[0m\u001B[1;33m(\u001B[0m\u001B[0mself\u001B[0m\u001B[1;33m,\u001B[0m \u001B[0mgradient\u001B[0m\u001B[1;33m,\u001B[0m \u001B[0mretain_graph\u001B[0m\u001B[1;33m,\u001B[0m \u001B[0mcreate_graph\u001B[0m\u001B[1;33m)\u001B[0m\u001B[1;33m\u001B[0m\u001B[1;33m\u001B[0m\u001B[0m\n\u001B[0m\u001B[0;32m    222\u001B[0m \u001B[1;33m\u001B[0m\u001B[0m\n\u001B[0;32m    223\u001B[0m     \u001B[1;32mdef\u001B[0m \u001B[0mregister_hook\u001B[0m\u001B[1;33m(\u001B[0m\u001B[0mself\u001B[0m\u001B[1;33m,\u001B[0m \u001B[0mhook\u001B[0m\u001B[1;33m)\u001B[0m\u001B[1;33m:\u001B[0m\u001B[1;33m\u001B[0m\u001B[1;33m\u001B[0m\u001B[0m\n",
      "\u001B[1;32m~\\Anaconda3\\envs\\Conda_test\\lib\\site-packages\\torch\\autograd\\__init__.py\u001B[0m in \u001B[0;36mbackward\u001B[1;34m(tensors, grad_tensors, retain_graph, create_graph, grad_variables)\u001B[0m\n\u001B[0;32m    130\u001B[0m     Variable._execution_engine.run_backward(\n\u001B[0;32m    131\u001B[0m         \u001B[0mtensors\u001B[0m\u001B[1;33m,\u001B[0m \u001B[0mgrad_tensors_\u001B[0m\u001B[1;33m,\u001B[0m \u001B[0mretain_graph\u001B[0m\u001B[1;33m,\u001B[0m \u001B[0mcreate_graph\u001B[0m\u001B[1;33m,\u001B[0m\u001B[1;33m\u001B[0m\u001B[1;33m\u001B[0m\u001B[0m\n\u001B[1;32m--> 132\u001B[1;33m         allow_unreachable=True)  # allow_unreachable flag\n\u001B[0m\u001B[0;32m    133\u001B[0m \u001B[1;33m\u001B[0m\u001B[0m\n\u001B[0;32m    134\u001B[0m \u001B[1;33m\u001B[0m\u001B[0m\n",
      "\u001B[1;31mKeyboardInterrupt\u001B[0m: "
     ]
    }
   ],
   "source": [
    "\n",
    "train_unsup(trainloader, Net, device, optim.SGD, criterion, weight_criterion, init=init_weights,\n",
    "            use_saved=True, error_display_stride=5, inter_error_stride=stride, epochs=1_000,\n",
    "            optimizer_params={'lr': 0.0001, 'momentum': 0.5, 'weight_decay': 0},\n",
    "            weight_penalty_adj=100)\n"
   ],
   "metadata": {
    "collapsed": false
   }
  },
  {
   "cell_type": "code",
   "execution_count": null,
   "outputs": [],
   "source": [
    "torch.std(trainset[:], dim=0)"
   ],
   "metadata": {
    "collapsed": false
   }
  },
  {
   "cell_type": "code",
   "execution_count": null,
   "outputs": [],
   "source": [
    "np.std(trainset[:12_000].numpy(), axis=0)"
   ],
   "metadata": {
    "collapsed": false
   }
  },
  {
   "cell_type": "code",
   "execution_count": null,
   "outputs": [],
   "source": [
    "torch.mean(trainset[:50_000], dim=0)"
   ],
   "metadata": {
    "collapsed": false
   }
  },
  {
   "cell_type": "code",
   "execution_count": 47,
   "outputs": [
    {
     "data": {
      "text/plain": "Net(\n  (fc1): Linear(in_features=6, out_features=6, bias=False)\n)"
     },
     "execution_count": 47,
     "metadata": {},
     "output_type": "execute_result"
    }
   ],
   "source": [
    "net = Net()\n",
    "net.load_state_dict(torch.load('../data/state_dict.pt'))\n",
    "net"
   ],
   "metadata": {
    "collapsed": false
   }
  },
  {
   "cell_type": "code",
   "execution_count": 48,
   "outputs": [],
   "source": [
    "mat = net.fc1.weight.t() @ net.trans @ net.fc1.weight"
   ],
   "metadata": {
    "collapsed": false
   }
  },
  {
   "cell_type": "code",
   "execution_count": 49,
   "outputs": [
    {
     "data": {
      "text/plain": "tensor([[-0.3173, -0.4071, -0.1587, -0.3930,  0.6884, -0.2732],\n        [-0.4071, -0.3225, -0.3990, -0.1313, -0.2818,  0.6845],\n        [-0.1587, -0.3990,  0.5268, -0.4013, -0.5373, -0.2816],\n        [-0.3930, -0.1313, -0.4013,  0.5300, -0.2767, -0.5488],\n        [ 0.6884, -0.2818, -0.5373, -0.2767, -0.2085, -0.1834],\n        [-0.2732,  0.6845, -0.2816, -0.5488, -0.1834, -0.1906]],\n       grad_fn=<MmBackward>)"
     },
     "execution_count": 49,
     "metadata": {},
     "output_type": "execute_result"
    }
   ],
   "source": [
    "mat"
   ],
   "metadata": {
    "collapsed": false
   }
  },
  {
   "cell_type": "code",
   "execution_count": 50,
   "outputs": [
    {
     "data": {
      "text/plain": "tensor([[ 0.2769, -0.5538,  0.6043, -0.1832,  0.0666,  0.4596],\n        [ 0.0316,  0.1434,  0.4021, -0.6491, -0.0276, -0.6263],\n        [-0.4638, -0.7104, -0.0347,  0.2325,  0.1280, -0.4514],\n        [ 0.5654,  0.0592,  0.3076,  0.6295, -0.1060, -0.4122]])"
     },
     "execution_count": 50,
     "metadata": {},
     "output_type": "execute_result"
    }
   ],
   "source": [
    "net.fc1.weight.detach()[:4]"
   ],
   "metadata": {
    "collapsed": false
   }
  },
  {
   "cell_type": "code",
   "execution_count": 8,
   "outputs": [
    {
     "data": {
      "text/plain": "array([[ 7.69070564, -0.77565903,  0.8414195 , -2.26890737, -1.40195854,\n         0.49187868],\n       [-0.77565903,  7.69070564, -2.26890737,  0.8414195 ,  0.49187868,\n        -1.40195854],\n       [ 0.8414195 , -2.26890737, 11.35803414, -4.1179805 , -0.29665543,\n        -1.94111775],\n       [-2.26890737,  0.8414195 , -4.1179805 , 11.35803414, -1.94111775,\n        -0.29665543],\n       [-1.40195854,  0.49187868, -0.29665543, -1.94111775,  6.56501936,\n        -0.8006946 ],\n       [ 0.49187868, -1.40195854, -1.94111775, -0.29665543, -0.8006946 ,\n         6.56501936]])"
     },
     "execution_count": 8,
     "metadata": {},
     "output_type": "execute_result"
    }
   ],
   "source": [
    "cov = np.cov(trainset[::10], rowvar=False)\n",
    "cov"
   ],
   "metadata": {
    "collapsed": false
   }
  },
  {
   "cell_type": "code",
   "execution_count": null,
   "outputs": [],
   "source": [
    "mat @ torch.tensor(cov, dtype=torch.float) @ mat.t()\n"
   ],
   "metadata": {
    "collapsed": false
   }
  },
  {
   "cell_type": "code",
   "execution_count": null,
   "outputs": [],
   "source": [
    "mat @ torch.mean(trainset[:], dim=0)"
   ],
   "metadata": {
    "collapsed": false
   }
  },
  {
   "cell_type": "code",
   "execution_count": 56,
   "outputs": [
    {
     "data": {
      "text/plain": "tensor([ 0.4696,  0.4696, -0.5229, -0.5229,  0.6039,  0.6039])"
     },
     "execution_count": 56,
     "metadata": {},
     "output_type": "execute_result"
    }
   ],
   "source": [
    "torch.mean(trainset[:], dim=0)"
   ],
   "metadata": {
    "collapsed": false
   }
  },
  {
   "cell_type": "code",
   "execution_count": 57,
   "outputs": [
    {
     "data": {
      "text/plain": "tensor([[ 7.7665, -0.6745,  0.8568, -2.3333, -1.1600,  0.7857],\n        [-0.6745,  7.8840, -2.4450,  1.0088,  0.7521, -1.1641],\n        [ 0.8568, -2.4450, 10.5508, -4.7146, -0.5094, -1.9335],\n        [-2.3333,  1.0088, -4.7146, 10.6666, -1.9786, -0.5153],\n        [-1.1600,  0.7521, -0.5094, -1.9786,  7.1002, -0.3529],\n        [ 0.7857, -1.1641, -1.9335, -0.5153, -0.3529,  7.0733]],\n       grad_fn=<MmBackward>)"
     },
     "execution_count": 57,
     "metadata": {},
     "output_type": "execute_result"
    }
   ],
   "source": [
    "mat @ torch.tensor(cov, dtype=torch.float) @ mat.t()\n"
   ],
   "metadata": {
    "collapsed": false
   }
  },
  {
   "cell_type": "code",
   "execution_count": 58,
   "outputs": [
    {
     "data": {
      "text/plain": "tensor([[ 7.6907, -0.7757,  0.8414, -2.2689, -1.4020,  0.4919],\n        [-0.7757,  7.6907, -2.2689,  0.8414,  0.4919, -1.4020],\n        [ 0.8414, -2.2689, 11.3580, -4.1180, -0.2967, -1.9411],\n        [-2.2689,  0.8414, -4.1180, 11.3580, -1.9411, -0.2967],\n        [-1.4020,  0.4919, -0.2967, -1.9411,  6.5650, -0.8007],\n        [ 0.4919, -1.4020, -1.9411, -0.2967, -0.8007,  6.5650]])"
     },
     "execution_count": 58,
     "metadata": {},
     "output_type": "execute_result"
    }
   ],
   "source": [
    "torch.tensor(cov, dtype=torch.float)"
   ],
   "metadata": {
    "collapsed": false
   }
  },
  {
   "cell_type": "code",
   "execution_count": null,
   "outputs": [],
   "source": [
    "torch.mean(trainset[:], dim=0)"
   ],
   "metadata": {
    "collapsed": false
   }
  },
  {
   "cell_type": "code",
   "execution_count": null,
   "outputs": [],
   "source": [
    "mat"
   ],
   "metadata": {
    "collapsed": false
   }
  },
  {
   "cell_type": "code",
   "execution_count": null,
   "outputs": [],
   "source": [
    "torch.tensor(cov, dtype=torch.float)"
   ],
   "metadata": {
    "collapsed": false
   }
  },
  {
   "cell_type": "code",
   "execution_count": null,
   "outputs": [],
   "source": [
    "mat @ torch.tensor(cov, dtype=torch.float) @ mat.t()"
   ],
   "metadata": {
    "collapsed": false
   }
  },
  {
   "cell_type": "code",
   "execution_count": 54,
   "outputs": [
    {
     "data": {
      "text/plain": "(array([16.74224347,  3.42187876,  4.93927248,  7.40701679,  9.62657731,\n         9.09052946]),\n array([[-0.23363209,  0.29516458, -0.45455862, -0.59393632, -0.48866401,\n          0.24518875],\n        [ 0.23363209,  0.29516458,  0.45455862, -0.59393632,  0.48866401,\n          0.24518875],\n        [-0.66379473,  0.40345443,  0.21197205, -0.03869398,  0.12018489,\n         -0.5794198 ],\n        [ 0.66379473,  0.40345443, -0.21197205, -0.03869398, -0.12018489,\n         -0.5794198 ],\n        [-0.06922863,  0.50010239, -0.49844189,  0.38176227,  0.49675254,\n          0.32273081],\n        [ 0.06922863,  0.50010239,  0.49844189,  0.38176227, -0.49675254,\n          0.32273081]]))"
     },
     "execution_count": 54,
     "metadata": {},
     "output_type": "execute_result"
    }
   ],
   "source": [
    "np.linalg.eig(cov)"
   ],
   "metadata": {
    "collapsed": false
   }
  },
  {
   "cell_type": "code",
   "execution_count": 55,
   "outputs": [
    {
     "data": {
      "text/plain": "(array([-0.9830776 , -0.9993397 , -0.99879336,  1.0014286 ,  0.9985549 ,\n         0.9991174 ], dtype=float32),\n array([[ 0.4058    , -0.63258165, -0.30924073,  0.5789646 , -0.04740828,\n          0.04556678],\n        [ 0.3774907 , -0.3808367 ,  0.61255133, -0.3836642 ,  0.047991  ,\n          0.4333082 ],\n        [ 0.4608624 ,  0.11206639,  0.11394423, -0.04079129,  0.6573224 ,\n         -0.5730069 ],\n        [ 0.46207172,  0.05292811, -0.14203218, -0.36606646, -0.6830215 ,\n         -0.40371877],\n        [ 0.35122034,  0.58286643,  0.3776067 ,  0.5601702 , -0.2092571 ,\n          0.19165519],\n        [ 0.37890235,  0.3157694 , -0.5944811 , -0.26104134,  0.23036858,\n          0.5311404 ]], dtype=float32))"
     },
     "execution_count": 55,
     "metadata": {},
     "output_type": "execute_result"
    }
   ],
   "source": [
    "np.linalg.eig(mat.detach())"
   ],
   "metadata": {
    "collapsed": false
   }
  },
  {
   "cell_type": "code",
   "execution_count": null,
   "outputs": [],
   "source": [
    "np.linalg.eig(cov)[1][0] @ mat.detach().numpy()"
   ],
   "metadata": {
    "collapsed": false
   }
  },
  {
   "cell_type": "code",
   "execution_count": null,
   "outputs": [],
   "source": [
    "np.linalg.eig(cov)[1][0]"
   ],
   "metadata": {
    "collapsed": false
   }
  },
  {
   "cell_type": "code",
   "execution_count": 68,
   "outputs": [
    {
     "data": {
      "text/plain": "array([ -3.91152527,   3.91152527, -11.113413  ,  11.113413  ,\n        -1.15904257,   1.15904257])"
     },
     "execution_count": 68,
     "metadata": {},
     "output_type": "execute_result"
    }
   ],
   "source": [
    "cov @ np.linalg.eig(cov)[1][:, 0]"
   ],
   "metadata": {
    "collapsed": false
   }
  },
  {
   "cell_type": "code",
   "execution_count": 69,
   "outputs": [
    {
     "data": {
      "text/plain": "array([ -3.91152527,   3.91152527, -11.113413  ,  11.113413  ,\n        -1.15904257,   1.15904257])"
     },
     "execution_count": 69,
     "metadata": {},
     "output_type": "execute_result"
    }
   ],
   "source": [
    "np.linalg.eig(cov)[0][0] * np.linalg.eig(cov)[1][:, 0]\n"
   ],
   "metadata": {
    "collapsed": false
   }
  },
  {
   "cell_type": "code",
   "execution_count": 73,
   "outputs": [
    {
     "data": {
      "text/plain": "array([-0.24313127,  0.26436015, -0.65455919,  0.66056184, -0.05195789,\n        0.04587332])"
     },
     "execution_count": 73,
     "metadata": {},
     "output_type": "execute_result"
    }
   ],
   "source": [
    "mat.detach().numpy() @ np.linalg.eig(cov)[1][:, 0]"
   ],
   "metadata": {
    "collapsed": false
   }
  },
  {
   "cell_type": "code",
   "execution_count": 76,
   "outputs": [
    {
     "data": {
      "text/plain": "array([-0.22878697, -0.22790091, -0.52350771, -0.515707  , -0.40444743,\n       -0.40069406])"
     },
     "execution_count": 76,
     "metadata": {},
     "output_type": "execute_result"
    }
   ],
   "source": [
    "mat.detach().numpy() @ np.linalg.eig(cov)[1][:, 1]"
   ],
   "metadata": {
    "collapsed": false
   }
  },
  {
   "cell_type": "code",
   "execution_count": 11,
   "outputs": [],
   "source": [
    "eigenvectors = np.linalg.eig(cov)[1]\n",
    "mu = torch.mean(trainset[:], dim=0)"
   ],
   "metadata": {
    "collapsed": false
   }
  },
  {
   "cell_type": "code",
   "execution_count": 15,
   "outputs": [],
   "source": [
    "sol = np.linalg.solve(eigenvectors, mu)"
   ],
   "metadata": {
    "collapsed": false
   }
  },
  {
   "cell_type": "code",
   "execution_count": 16,
   "outputs": [
    {
     "data": {
      "text/plain": "array([[-0.23363209,  0.29516458, -0.45455862, -0.59393632, -0.48866401,\n         0.24518875],\n       [ 0.23363209,  0.29516458,  0.45455862, -0.59393632,  0.48866401,\n         0.24518875],\n       [-0.66379473,  0.40345443,  0.21197205, -0.03869398,  0.12018489,\n        -0.5794198 ],\n       [ 0.66379473,  0.40345443, -0.21197205, -0.03869398, -0.12018489,\n        -0.5794198 ],\n       [-0.06922863,  0.50010239, -0.49844189,  0.38176227,  0.49675254,\n         0.32273081],\n       [ 0.06922863,  0.50010239,  0.49844189,  0.38176227, -0.49675254,\n         0.32273081]])"
     },
     "execution_count": 16,
     "metadata": {},
     "output_type": "execute_result"
    }
   ],
   "source": [
    "eigenvectors"
   ],
   "metadata": {
    "collapsed": false
   }
  },
  {
   "cell_type": "code",
   "execution_count": 22,
   "outputs": [
    {
     "data": {
      "text/plain": "array([-1.,  1., -1.,  1., -1.,  1.])"
     },
     "execution_count": 22,
     "metadata": {},
     "output_type": "execute_result"
    }
   ],
   "source": [
    "rel_vectors = (np.abs(sol) > 0.0001) * 2. - 1\n",
    "rel_vectors"
   ],
   "metadata": {
    "collapsed": false
   }
  },
  {
   "cell_type": "code",
   "execution_count": 31,
   "outputs": [
    {
     "data": {
      "text/plain": "array([[-0.,  1.,  0.,  0.,  0., -0.],\n       [ 1.,  0., -0., -0.,  0., -0.],\n       [ 0., -0., -0.,  1., -0.,  0.],\n       [ 0., -0.,  1.,  0., -0.,  0.],\n       [ 0.,  0., -0., -0.,  0.,  1.],\n       [-0., -0.,  0.,  0.,  1., -0.]])"
     },
     "execution_count": 31,
     "metadata": {},
     "output_type": "execute_result"
    }
   ],
   "source": [
    "new_mat = eigenvectors @ np.diag(rel_vectors) @ eigenvectors.T\n",
    "new_mat * (np.abs(new_mat) > 10 ** (-5) )"
   ],
   "metadata": {
    "collapsed": false
   }
  },
  {
   "cell_type": "code",
   "execution_count": null,
   "outputs": [],
   "source": [],
   "metadata": {
    "collapsed": false
   }
  }
 ],
 "metadata": {
  "language_info": {
   "codemirror_mode": {
    "name": "ipython",
    "version": 2
   },
   "file_extension": ".py",
   "mimetype": "text/x-python",
   "name": "python",
   "nbconvert_exporter": "python",
   "pygments_lexer": "ipython2",
   "version": "2.7.6"
  },
  "kernelspec": {
   "name": "python3",
   "language": "python",
   "display_name": "Python 3"
  }
 },
 "nbformat": 4,
 "nbformat_minor": 0
}
