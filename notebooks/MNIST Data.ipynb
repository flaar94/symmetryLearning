{
 "cells": [
  {
   "cell_type": "code",
   "execution_count": 1,
   "metadata": {
    "collapsed": true,
    "ExecuteTime": {
     "end_time": "2023-07-12T19:51:04.952265800Z",
     "start_time": "2023-07-12T19:51:03.294571Z"
    }
   },
   "outputs": [],
   "source": [
    "import numpy as np\n",
    "import torchvision\n",
    "import torchvision.transforms as transforms\n",
    "from core import SymmetryFinder, SymmetryFinderLabel\n",
    "import matplotlib.pyplot as plt\n",
    "import seaborn as sns\n",
    "DATA_PATH = '../data/weak_dataset.npy'"
   ]
  },
  {
   "cell_type": "code",
   "execution_count": 2,
   "outputs": [],
   "source": [
    "\n",
    "def imshow(img, dim):\n",
    "    img = img.reshape(dim) * 255\n",
    "    plt.imshow(img, cmap='gray')\n",
    "    plt.show()"
   ],
   "metadata": {
    "collapsed": false,
    "ExecuteTime": {
     "end_time": "2023-07-12T19:51:04.968088800Z",
     "start_time": "2023-07-12T19:51:04.952265800Z"
    }
   }
  },
  {
   "cell_type": "code",
   "execution_count": 3,
   "outputs": [
    {
     "name": "stderr",
     "output_type": "stream",
     "text": [
      "0.2%"
     ]
    },
    {
     "name": "stdout",
     "output_type": "stream",
     "text": [
      "Downloading https://www.itl.nist.gov/iaui/vip/cs_links/EMNIST/gzip.zip to ./data\\EMNIST\\raw\\gzip.zip\n"
     ]
    },
    {
     "name": "stderr",
     "output_type": "stream",
     "text": [
      "100.0%\n"
     ]
    },
    {
     "name": "stdout",
     "output_type": "stream",
     "text": [
      "Extracting ./data\\EMNIST\\raw\\gzip.zip to ./data\\EMNIST\\raw\n"
     ]
    }
   ],
   "source": [
    "import torchvision.transforms.functional as F\n",
    "dim = (28, 28)\n",
    "\n",
    "transform = transforms.Compose(\n",
    "    [\n",
    "    lambda x: F.rotate(x, angle=-90),\n",
    "    F.hflip,\n",
    "    # transforms.RandomHorizontalFlip(),\n",
    "    # transforms.Resize(dim),\n",
    "    transforms.ToTensor(),\n",
    "     lambda x: x.view(-1),\n",
    "     lambda x: x.numpy()])\n",
    "\n",
    "trainset = torchvision.datasets.EMNIST(root='./data', train=True,\n",
    "                                        download=True, transform=transform,\n",
    "                                        split=\"digits\",\n",
    "                                      )\n",
    "# testset = torchvision.datasets.EMNIST(root='./data', train=False,\n",
    "#                                        download=True, transform=transform, split=\"digits\")\n",
    "\n",
    "# idx = (trainset.targets == 4)\n",
    "# trainset.targets = trainset.targets[idx]\n",
    "# trainset.data = trainset.data[idx]\n",
    "data2 = np.array([x for i, (x, label) in enumerate(trainset)])\n",
    "labels = np.array([label for i, (x, label) in enumerate(trainset)])"
   ],
   "metadata": {
    "collapsed": false,
    "ExecuteTime": {
     "end_time": "2023-07-12T19:52:46.711191Z",
     "start_time": "2023-07-12T19:51:04.968088800Z"
    }
   }
  },
  {
   "cell_type": "code",
   "execution_count": 4,
   "outputs": [
    {
     "name": "stdout",
     "output_type": "stream",
     "text": [
      "1.3163224974248353 0.0\n",
      "0.0 0.0\n"
     ]
    },
    {
     "data": {
      "text/plain": "SymmetryFinderLabel(bidirectional=True)",
      "text/html": "<style>#sk-container-id-1 {color: black;}#sk-container-id-1 pre{padding: 0;}#sk-container-id-1 div.sk-toggleable {background-color: white;}#sk-container-id-1 label.sk-toggleable__label {cursor: pointer;display: block;width: 100%;margin-bottom: 0;padding: 0.3em;box-sizing: border-box;text-align: center;}#sk-container-id-1 label.sk-toggleable__label-arrow:before {content: \"▸\";float: left;margin-right: 0.25em;color: #696969;}#sk-container-id-1 label.sk-toggleable__label-arrow:hover:before {color: black;}#sk-container-id-1 div.sk-estimator:hover label.sk-toggleable__label-arrow:before {color: black;}#sk-container-id-1 div.sk-toggleable__content {max-height: 0;max-width: 0;overflow: hidden;text-align: left;background-color: #f0f8ff;}#sk-container-id-1 div.sk-toggleable__content pre {margin: 0.2em;color: black;border-radius: 0.25em;background-color: #f0f8ff;}#sk-container-id-1 input.sk-toggleable__control:checked~div.sk-toggleable__content {max-height: 200px;max-width: 100%;overflow: auto;}#sk-container-id-1 input.sk-toggleable__control:checked~label.sk-toggleable__label-arrow:before {content: \"▾\";}#sk-container-id-1 div.sk-estimator input.sk-toggleable__control:checked~label.sk-toggleable__label {background-color: #d4ebff;}#sk-container-id-1 div.sk-label input.sk-toggleable__control:checked~label.sk-toggleable__label {background-color: #d4ebff;}#sk-container-id-1 input.sk-hidden--visually {border: 0;clip: rect(1px 1px 1px 1px);clip: rect(1px, 1px, 1px, 1px);height: 1px;margin: -1px;overflow: hidden;padding: 0;position: absolute;width: 1px;}#sk-container-id-1 div.sk-estimator {font-family: monospace;background-color: #f0f8ff;border: 1px dotted black;border-radius: 0.25em;box-sizing: border-box;margin-bottom: 0.5em;}#sk-container-id-1 div.sk-estimator:hover {background-color: #d4ebff;}#sk-container-id-1 div.sk-parallel-item::after {content: \"\";width: 100%;border-bottom: 1px solid gray;flex-grow: 1;}#sk-container-id-1 div.sk-label:hover label.sk-toggleable__label {background-color: #d4ebff;}#sk-container-id-1 div.sk-serial::before {content: \"\";position: absolute;border-left: 1px solid gray;box-sizing: border-box;top: 0;bottom: 0;left: 50%;z-index: 0;}#sk-container-id-1 div.sk-serial {display: flex;flex-direction: column;align-items: center;background-color: white;padding-right: 0.2em;padding-left: 0.2em;position: relative;}#sk-container-id-1 div.sk-item {position: relative;z-index: 1;}#sk-container-id-1 div.sk-parallel {display: flex;align-items: stretch;justify-content: center;background-color: white;position: relative;}#sk-container-id-1 div.sk-item::before, #sk-container-id-1 div.sk-parallel-item::before {content: \"\";position: absolute;border-left: 1px solid gray;box-sizing: border-box;top: 0;bottom: 0;left: 50%;z-index: -1;}#sk-container-id-1 div.sk-parallel-item {display: flex;flex-direction: column;z-index: 1;position: relative;background-color: white;}#sk-container-id-1 div.sk-parallel-item:first-child::after {align-self: flex-end;width: 50%;}#sk-container-id-1 div.sk-parallel-item:last-child::after {align-self: flex-start;width: 50%;}#sk-container-id-1 div.sk-parallel-item:only-child::after {width: 0;}#sk-container-id-1 div.sk-dashed-wrapped {border: 1px dashed gray;margin: 0 0.4em 0.5em 0.4em;box-sizing: border-box;padding-bottom: 0.4em;background-color: white;}#sk-container-id-1 div.sk-label label {font-family: monospace;font-weight: bold;display: inline-block;line-height: 1.2em;}#sk-container-id-1 div.sk-label-container {text-align: center;}#sk-container-id-1 div.sk-container {/* jupyter's `normalize.less` sets `[hidden] { display: none; }` but bootstrap.min.css set `[hidden] { display: none !important; }` so we also need the `!important` here to be able to override the default hidden behavior on the sphinx rendered scikit-learn.org. See: https://github.com/scikit-learn/scikit-learn/issues/21755 */display: inline-block !important;position: relative;}#sk-container-id-1 div.sk-text-repr-fallback {display: none;}</style><div id=\"sk-container-id-1\" class=\"sk-top-container\"><div class=\"sk-text-repr-fallback\"><pre>SymmetryFinderLabel(bidirectional=True)</pre><b>In a Jupyter environment, please rerun this cell to show the HTML representation or trust the notebook. <br />On GitHub, the HTML representation is unable to render, please try loading this page with nbviewer.org.</b></div><div class=\"sk-container\" hidden><div class=\"sk-item\"><div class=\"sk-estimator sk-toggleable\"><input class=\"sk-toggleable__control sk-hidden--visually\" id=\"sk-estimator-id-1\" type=\"checkbox\" checked><label for=\"sk-estimator-id-1\" class=\"sk-toggleable__label sk-toggleable__label-arrow\">SymmetryFinderLabel</label><div class=\"sk-toggleable__content\"><pre>SymmetryFinderLabel(bidirectional=True)</pre></div></div></div></div></div>"
     },
     "execution_count": 4,
     "metadata": {},
     "output_type": "execute_result"
    }
   ],
   "source": [
    "cov = np.cov(data2, rowvar=False)\n",
    "eigen = np.linalg.eig(cov)\n",
    "cov_eigenvalues = np.real(eigen[0])\n",
    "eigenvectors = np.real(eigen[1])\n",
    "mu = np.mean(data2, axis=0)\n",
    "sol = np.linalg.solve(eigenvectors, mu)\n",
    "num_trivial_vectors = np.sum((sol < SymmetryFinder.ignore_threshold) & \\\n",
    "                             (cov_eigenvalues < SymmetryFinder.ignore_threshold))\n",
    "swaps = int((dim[0] * dim[1] - num_trivial_vectors) // 2)\n",
    "# symm = SymmetryFinder(alpha=0.05, fit_method='median', select_method='mean_rotate_bs')\n",
    "# symm = SymmetryFinder(fit_method='sign', select_method=50, scoring_sig=25, cov_adj_score=True, la=0.003, tv_ratio=1)\n",
    "symm = SymmetryFinderLabel(bidirectional=True)\n",
    "symm.fit(data2, labels)"
   ],
   "metadata": {
    "collapsed": false,
    "ExecuteTime": {
     "end_time": "2023-07-12T19:53:01.506609900Z",
     "start_time": "2023-07-12T19:52:46.711191Z"
    }
   }
  },
  {
   "cell_type": "code",
   "execution_count": 5,
   "outputs": [
    {
     "data": {
      "text/plain": "0"
     },
     "execution_count": 5,
     "metadata": {},
     "output_type": "execute_result"
    }
   ],
   "source": [
    "sum(symm.trans_eigenvalues_ == -1)"
   ],
   "metadata": {
    "collapsed": false,
    "ExecuteTime": {
     "end_time": "2023-07-12T19:53:01.883467700Z",
     "start_time": "2023-07-12T19:53:01.506609900Z"
    }
   }
  },
  {
   "cell_type": "code",
   "execution_count": 6,
   "outputs": [],
   "source": [
    "# mmd_errors = np.array(symm.mmd_errors_)\n",
    "# sns.lineplot(range(1, len(mmd_errors)+1), np.log(-mmd_errors))\n",
    "# plt.xlabel(\"Number of swaps\")\n",
    "# plt.ylabel(f\"Log Spherical MMD ($\\sigma^2 = {symm.scoring_sig}$)\")\n",
    "\n",
    "# plt.savefig(\"0_spherical_errors\")"
   ],
   "metadata": {
    "collapsed": false,
    "ExecuteTime": {
     "end_time": "2023-07-12T19:53:01.883467700Z",
     "start_time": "2023-07-12T19:53:01.522249200Z"
    }
   }
  },
  {
   "cell_type": "code",
   "execution_count": 7,
   "outputs": [
    {
     "data": {
      "text/plain": "array([1., 1., 1., 1., 1., 1., 1., 1., 1., 1., 1., 1., 1., 1., 1., 1., 1.,\n       1., 1., 1., 1., 1., 1., 1., 1., 1., 1., 1., 1., 1., 1., 1., 1., 1.,\n       1., 1., 1., 1., 1., 1., 1., 1., 1., 1., 1., 1., 1., 1., 1., 1., 1.,\n       1., 1., 1., 1., 1., 1., 1., 1., 1., 1., 1., 1., 1., 1., 1., 1., 1.,\n       1., 1., 1., 1., 1., 1., 1., 1., 1., 1., 1., 1., 1., 1., 1., 1., 1.,\n       1., 1., 1., 1., 1., 1., 1., 1., 1., 1., 1., 1., 1., 1., 1., 1., 1.,\n       1., 1., 1., 1., 1., 1., 1., 1., 1., 1., 1., 1., 1., 1., 1., 1., 1.,\n       1., 1., 1., 1., 1., 1., 1., 1., 1., 1., 1., 1., 1., 1., 1., 1., 1.,\n       1., 1., 1., 1., 1., 1., 1., 1., 1., 1., 1., 1., 1., 1., 1., 1., 1.,\n       1., 1., 1., 1., 1., 1., 1., 1., 1., 1., 1., 1., 1., 1., 1., 1., 1.,\n       1., 1., 1., 1., 1., 1., 1., 1., 1., 1., 1., 1., 1., 1., 1., 1., 1.,\n       1., 1., 1., 1., 1., 1., 1., 1., 1., 1., 1., 1., 1., 1., 1., 1., 1.,\n       1., 1., 1., 1., 1., 1., 1., 1., 1., 1., 1., 1., 1., 1., 1., 1., 1.,\n       1., 1., 1., 1., 1., 1., 1., 1., 1., 1., 1., 1., 1., 1., 1., 1., 1.,\n       1., 1., 1., 1., 1., 1., 1., 1., 1., 1., 1., 1., 1., 1., 1., 1., 1.,\n       1., 1., 1., 1., 1., 1., 1., 1., 1., 1., 1., 1., 1., 1., 1., 1., 1.,\n       1., 1., 1., 1., 1., 1., 1., 1., 1., 1., 1., 1., 1., 1., 1., 1., 1.,\n       1., 1., 1., 1., 1., 1., 1., 1., 1., 1., 1., 1., 1., 1., 1., 1., 1.,\n       1., 1., 1., 1., 1., 1., 1., 1., 1., 1., 1., 1., 1., 1., 1., 1., 1.,\n       1., 1., 1., 1., 1., 1., 1., 1., 1., 1., 1., 1., 1., 1., 1., 1., 1.,\n       1., 1., 1., 1., 1., 1., 1., 1., 1., 1., 1., 1., 1., 1., 1., 1., 1.,\n       1., 1., 1., 1., 1., 1., 1., 1., 1., 1., 1., 1., 1., 1., 1., 1., 1.,\n       1., 1., 1., 1., 1., 1., 1., 1., 1., 1., 1., 1., 1., 1., 1., 1., 1.,\n       1., 1., 1., 1., 1., 1., 1., 1., 1., 1., 1., 1., 1., 1., 1., 1., 1.,\n       1., 1., 1., 1., 1., 1., 1., 1., 1., 1., 1., 1., 1., 1., 1., 1., 1.,\n       1., 1., 1., 1., 1., 1., 1., 1., 1., 1., 1., 1., 1., 1., 1., 1., 1.,\n       1., 1., 1., 1., 1., 1., 1., 1., 1., 1., 1., 1., 1., 1., 1., 1., 1.,\n       1., 1., 1., 1., 1., 1., 1., 1., 1., 1., 1., 1., 1., 1., 1., 1., 1.,\n       1., 1., 1., 1., 1., 1., 1., 1., 1., 1., 1., 1., 1., 1., 1., 1., 1.,\n       1., 1., 1., 1., 1., 1., 1., 1., 1., 1., 1., 1., 1., 1., 1., 1., 1.,\n       1., 1., 1., 1., 1., 1., 1., 1., 1., 1., 1., 1., 1., 1., 1., 1., 1.,\n       1., 1., 1., 1., 1., 1., 1., 1., 1., 1., 1., 1., 1., 1., 1., 1., 1.,\n       1., 1., 1., 1., 1., 1., 1., 1., 1., 1., 1., 1., 1., 1., 1., 1., 1.,\n       1., 1., 1., 1., 1., 1., 1., 1., 1., 1., 1., 1., 1., 1., 1., 1., 1.,\n       1., 1., 1., 1., 1., 1., 1., 1., 1., 1., 1., 1., 1., 1., 1., 1., 1.,\n       1., 1., 1., 1., 1., 1., 1., 1., 1., 1., 1., 1., 1., 1., 1., 1., 1.,\n       1., 1., 1., 1., 1., 1., 1., 1., 1., 1., 1., 1., 1., 1., 1., 1., 1.,\n       1., 1., 1., 1., 1., 1., 1., 1., 1., 1., 1., 1., 1., 1., 1., 1., 1.,\n       1., 1., 1., 1., 1., 1., 1., 1., 1., 1., 1., 1., 1., 1., 1., 1., 1.,\n       1., 1., 1., 1., 1., 1., 1., 1., 1., 1., 1., 1., 1., 1., 1., 1., 1.,\n       1., 1., 1., 1., 1., 1., 1., 1., 1., 1., 1., 1., 1., 1., 1., 1., 1.,\n       1., 1., 1., 1., 1., 1., 1., 1., 1., 1., 1., 1., 1., 1., 1., 1., 1.,\n       1., 1., 1., 1., 1., 1., 1., 1., 1., 1., 1., 1., 1., 1., 1., 1., 1.,\n       1., 1., 1., 1., 1., 1., 1., 1., 1., 1., 1., 1., 1., 1., 1., 1., 1.,\n       1., 1., 1., 1., 1., 1., 1., 1., 1., 1., 1., 1., 1., 1., 1., 1., 1.,\n       1., 1., 1., 1., 1., 1., 1., 1., 1., 1., 1., 1., 1., 1., 1., 1., 1.,\n       1., 1.])"
     },
     "execution_count": 7,
     "metadata": {},
     "output_type": "execute_result"
    }
   ],
   "source": [
    "symm.trans_eigenvalues_"
   ],
   "metadata": {
    "collapsed": false,
    "ExecuteTime": {
     "end_time": "2023-07-12T19:53:01.883467700Z",
     "start_time": "2023-07-12T19:53:01.537878400Z"
    }
   }
  },
  {
   "cell_type": "code",
   "execution_count": 8,
   "outputs": [
    {
     "data": {
      "text/plain": "<matplotlib.image.AxesImage at 0x17acfac5750>"
     },
     "execution_count": 8,
     "metadata": {},
     "output_type": "execute_result"
    },
    {
     "data": {
      "text/plain": "<Figure size 640x480 with 1 Axes>",
      "image/png": "[encoded data removed]"
     },
     "metadata": {},
     "output_type": "display_data"
    }
   ],
   "source": [
    "plt.imshow(symm.eigenvectors_[:, -12].reshape(dim))\n"
   ],
   "metadata": {
    "collapsed": false,
    "ExecuteTime": {
     "end_time": "2023-07-12T19:53:01.883467700Z",
     "start_time": "2023-07-12T19:53:01.553504600Z"
    }
   }
  },
  {
   "cell_type": "code",
   "execution_count": 9,
   "outputs": [
    {
     "data": {
      "text/plain": "<Figure size 640x480 with 3 Axes>",
      "image/png": "[encoded data removed]"
     },
     "metadata": {},
     "output_type": "display_data"
    }
   ],
   "source": [
    "# symm.select_method = 38\n",
    "orig_img = data2[14]\n",
    "fig, ax = plt.subplots(1,3)\n",
    "img1 = orig_img.reshape(dim) * 255\n",
    "ax[0].imshow(img1, cmap='gray')\n",
    "img2 = (np.clip(orig_img @ symm.trans_, 0, 1)).reshape(dim) * 255\n",
    "ax[1].imshow(img2, cmap='gray')\n",
    "img2 = (orig_img @ symm.trans_).reshape(dim) * 255\n",
    "ax[2].imshow(img2, cmap='gray')\n",
    "\n",
    "plt.show()\n",
    "# plt.savefig(\"6s\")"
   ],
   "metadata": {
    "collapsed": false,
    "ExecuteTime": {
     "end_time": "2023-07-12T19:53:01.899097400Z",
     "start_time": "2023-07-12T19:53:01.679477600Z"
    }
   }
  },
  {
   "cell_type": "code",
   "execution_count": 10,
   "outputs": [],
   "source": [
    "# symm2 = SymmetryFinder(fit_method='sign', select_method='mmd', scoring_sig=5, cov_adj_score=True, la=0.03, tv_ratio=0.75)\n",
    "# symm2.fit(data2)\n",
    "#"
   ],
   "metadata": {
    "collapsed": false
   }
  },
  {
   "cell_type": "code",
   "execution_count": 11,
   "outputs": [],
   "source": [
    "# sum(symm2.trans_eigenvalues_ == -1), sum(symm2.trans_eigenvalues_ == 1)\n",
    "#"
   ],
   "metadata": {
    "collapsed": false
   }
  },
  {
   "cell_type": "code",
   "execution_count": 12,
   "outputs": [],
   "source": [
    "# mmd_errors2 = np.array(symm2.mmd_errors_)\n",
    "# sns.lineplot(range(1, len(mmd_errors2)+1), np.log(-mmd_errors2))\n",
    "# plt.xlabel(\"Number of swaps\")\n",
    "# plt.ylabel(f\"Log Spherical MMD ($\\sigma^2 = {symm2.scoring_sig}$)\")\n",
    "# # plt.savefig(\"0_spherical_errors\")"
   ],
   "metadata": {
    "collapsed": false
   }
  },
  {
   "cell_type": "code",
   "execution_count": 13,
   "outputs": [],
   "source": [
    "# symm = SymmetryFinder(fit_method='sign', select_method='mmd', scoring_sig=5, cov_adj_score=True, la=0.03)\n",
    "# symm.fit(data2, cov=cov)"
   ],
   "metadata": {
    "collapsed": false
   }
  },
  {
   "cell_type": "code",
   "execution_count": 14,
   "outputs": [],
   "source": [
    "# mmd_errors = np.array(symm.mmd_errors_)\n",
    "# sns.lineplot(range(1, len(mmd_errors)+1), np.log(-mmd_errors))\n",
    "# plt.xlabel(\"Number of swaps\")\n",
    "# plt.ylabel(\"Log Data-Based MMD\")\n",
    "# plt.savefig(\"0_data_errors\")"
   ],
   "metadata": {
    "collapsed": false
   }
  },
  {
   "cell_type": "code",
   "execution_count": 15,
   "outputs": [],
   "source": [
    "# rows = 12\n",
    "# models = [0, 13, 23, 45, 65, 89]\n",
    "# fig, ax = plt.subplots(len(models), rows, figsize=(10, 5))\n",
    "#\n",
    "# fig.subplots_adjust(hspace=0, wspace=0)\n",
    "# for j in range(rows):\n",
    "#     orig_img = data2[5 * j]\n",
    "#     for i, model_size in enumerate(models):\n",
    "#         symm.select_method = model_size\n",
    "#         img = (orig_img @ symm.trans_).reshape(dim) * 255\n",
    "#         ax[i, j].imshow(img, cmap='gray')\n",
    "#         ax[i, j].axis('off')\n",
    "#\n",
    "# plt.show()\n",
    "# fig.savefig(\"0s\")\n",
    "#"
   ],
   "metadata": {
    "collapsed": false
   }
  },
  {
   "cell_type": "code",
   "execution_count": 16,
   "outputs": [],
   "source": [
    "# rows = 12\n",
    "# models = [0, 5, 10, 15, 20, 40, 60, 80]\n",
    "# fig, ax = plt.subplots(len(models), rows, figsize=(7.5, 5))\n",
    "#\n",
    "# fig.subplots_adjust(hspace=0, wspace=0)\n",
    "# for j in range(rows):\n",
    "#     orig_img = data2[4 * j]\n",
    "#     for i, model_size in enumerate(models):\n",
    "#         symm.select_method = model_size\n",
    "#         img = (orig_img @ symm.trans_).reshape(dim) * 255\n",
    "#         ax[i, j].imshow(img, cmap='gray')\n",
    "#         ax[i, j].axis('off')\n",
    "#\n",
    "# # plt.show()\n",
    "# plt.savefig(\"alls\")"
   ],
   "metadata": {
    "collapsed": false
   }
  },
  {
   "cell_type": "code",
   "execution_count": 17,
   "outputs": [],
   "source": [
    "# symm.select_method = 20"
   ],
   "metadata": {
    "collapsed": false
   }
  },
  {
   "cell_type": "code",
   "execution_count": 18,
   "outputs": [],
   "source": [
    "import torch\n",
    "import torchvision\n",
    "import torchvision.transforms as transforms\n",
    "import time\n",
    "import numpy as np\n",
    "from torch.utils.data.dataset import random_split\n",
    "\n",
    "class RandomLinearTransform:\n",
    "    def __init__(self, trans, p=0.5):\n",
    "        self.p = torch.tensor([p])\n",
    "        self.trans = trans\n",
    "\n",
    "    def __call__(self, x):\n",
    "        if torch.bernoulli(self.p):\n",
    "            return torch.clip(self.trans(x), 0, 1)\n",
    "        else:\n",
    "            return x\n",
    "\n",
    "symm.trans_ = torch.tensor(symm.trans_, dtype=torch.float)\n"
   ],
   "metadata": {
    "collapsed": false
   }
  },
  {
   "cell_type": "code",
   "execution_count": 19,
   "outputs": [],
   "source": [
    "transform = transforms.Compose(\n",
    "    [\n",
    "    # transforms.Resize(dim),\n",
    "    transforms.ToTensor(),\n",
    "    transforms.Normalize((0.5,), (0.5,))])\n",
    "\n",
    "transform2 = transforms.Compose(\n",
    "    [\n",
    "    # transforms.Resize(dim),\n",
    "    transforms.ToTensor(),\n",
    "    lambda x: x.view(-1, dim[0]*dim[1]),\n",
    "    RandomLinearTransform(symm.predict, p=0.5),\n",
    "     lambda x: x.view(-1, dim[0], dim[1]),\n",
    "    transforms.Normalize((0.5,), (0.5,))])\n",
    "\n",
    "trainset = torchvision.datasets.MNIST(root='./data', train=True,\n",
    "                                        download=True, transform=transform2)\n",
    "testset = torchvision.datasets.MNIST(root='./data', train=False,\n",
    "                                       download=True, transform=transform)\n",
    "# testloader = torch.utils.data.DataLoader(testset, batch_size=512,\n",
    "#                                          shuffle=False, num_workers=2)\n",
    "classes = ('0', '1', '2', '3',\n",
    "           '4', '5', '6', '7', '8', '9')\n",
    "\n",
    "torch.manual_seed(42)\n",
    "trainset, validset = torch.utils.data.random_split(trainset, (2_000, 58_000))\n",
    "# print(len(random_split(trainset,(10000,50000))[1]))"
   ],
   "metadata": {
    "collapsed": false
   }
  },
  {
   "cell_type": "code",
   "execution_count": 20,
   "outputs": [],
   "source": [
    "import torch.nn as nn\n",
    "import torch.nn.functional as F\n",
    "\n",
    "\n",
    "class Net(nn.Module):\n",
    "    def __init__(self):\n",
    "        super(Net, self).__init__()\n",
    "        self.conv1 = nn.Conv2d(1, 64, 5)\n",
    "        self.pool = nn.MaxPool2d(2, 2)\n",
    "        self.conv2 = nn.Conv2d(64, 128, 5)\n",
    "        self.fc1 = nn.Linear(128*4*4, 128)\n",
    "        self.fc2 = nn.Linear(128, 10)\n",
    "\n",
    "    def forward(self, x):\n",
    "        x = F.relu(self.conv1(x))\n",
    "        x = self.pool(x)\n",
    "        x = F.relu(self.conv2(x))\n",
    "        x = self.pool(x)\n",
    "        # print(x.shape)\n",
    "        x = x.view(x.shape[0], -1)\n",
    "        x = F.relu(self.fc1(x))\n",
    "        x = self.fc2(x)\n",
    "        return x\n",
    "\n",
    "\n",
    "total_time = 0\n",
    "true_epoch = 0\n",
    "train_error_list = []\n",
    "test_error_list = []"
   ],
   "metadata": {
    "collapsed": false
   }
  },
  {
   "cell_type": "code",
   "execution_count": 21,
   "outputs": [],
   "source": [
    "import torch.optim as optim\n",
    "device='cuda:0'\n",
    "testloader = torch.utils.data.DataLoader(testset, batch_size=512,\n",
    "                                         shuffle=False)\n",
    "criterion = nn.CrossEntropyLoss()"
   ],
   "metadata": {
    "collapsed": false
   }
  },
  {
   "cell_type": "code",
   "execution_count": null,
   "outputs": [
    {
     "name": "stdout",
     "output_type": "stream",
     "text": [
      "[1, 50] loss: 0.0690, Correct Rate: 36.25%\n",
      "Accuracy at (1) of the network on the 10000 test images: 58.26\n",
      "Finished epoch 1, cumulative time: 3.2702255249023438s\n",
      "[11, 50] loss: 0.0041, Correct Rate: 96.06%\n",
      "Accuracy at (11) of the network on the 10000 test images: 94.05\n",
      "Finished epoch 11, cumulative time: 5.7504050731658936s\n",
      "[21, 50] loss: 0.0010, Correct Rate: 99.38%\n",
      "Accuracy at (21) of the network on the 10000 test images: 96.37\n",
      "Finished epoch 21, cumulative time: 8.255117893218994s\n",
      "[31, 50] loss: 0.0004, Correct Rate: 100.00%\n",
      "Accuracy at (31) of the network on the 10000 test images: 96.71\n",
      "Finished epoch 31, cumulative time: 10.943971633911133s\n",
      "[41, 50] loss: 0.0002, Correct Rate: 100.00%\n",
      "Accuracy at (41) of the network on the 10000 test images: 96.7\n",
      "Finished epoch 41, cumulative time: 13.574464559555054s\n"
     ]
    }
   ],
   "source": [
    "tests = 10\n",
    "accuracies = []\n",
    "for i in range(tests):\n",
    "    net = Net()\n",
    "    trainloader = torch.utils.data.DataLoader(trainset, batch_size=32,\n",
    "                                          shuffle=True)\n",
    "    net = net.to(device)\n",
    "    optimizer = optim.SGD(net.parameters(), lr=0.01, momentum=0.5)\n",
    "    true_epoch = 0\n",
    "    for epoch in range(51):  # loop over the dataset multiple times\n",
    "        start_time = time.time()\n",
    "        true_epoch += 1\n",
    "        running_loss = 0.0\n",
    "        true_train_total = 0.0\n",
    "        correct_train_total = 0.0\n",
    "        correct_train = 0.0\n",
    "        total_train = 0.0\n",
    "        for i, data in enumerate(trainloader, 0):\n",
    "            # get the inputs\n",
    "            inputs, labels = data\n",
    "            inputs, labels = inputs.to(device), labels.to(device)\n",
    "            # zero the parameter gradients\n",
    "            optimizer.zero_grad()\n",
    "\n",
    "            # forward + backward + optimize\n",
    "            outputs = net(inputs)\n",
    "            loss = criterion(outputs, labels)\n",
    "\n",
    "            _, predicted = torch.max(outputs.data, 1)\n",
    "            total_train += labels.size(0)\n",
    "            true_train_total += labels.size(0)\n",
    "            correct_train += (predicted == labels).sum().item()\n",
    "            correct_train_total += (predicted == labels).sum().item()\n",
    "\n",
    "            loss.backward()\n",
    "            optimizer.step()\n",
    "\n",
    "            # print statistics\n",
    "            running_loss += loss.item()\n",
    "            if (true_epoch % 10 == 1) and (i % 50 == 49):    # print every 100 mini-batches\n",
    "                print(f'[{true_epoch}, {i + 1}] loss: {running_loss / total_train:.4f}, Correct Rate: {100 * correct_train / total_train:.2f}%')\n",
    "                running_loss = 0.0\n",
    "                correct_train = 0.0\n",
    "                total_train = 0.0\n",
    "        train_error_list.append(100 * correct_train_total / true_train_total)\n",
    "        correct = 0\n",
    "        total = 0\n",
    "        if true_epoch % 10 == 1:\n",
    "            with torch.no_grad():\n",
    "                for data in testloader:\n",
    "                    images, labels = data\n",
    "                    images, labels = images.to(device), labels.to(device)\n",
    "                    outputs = net(images)\n",
    "                    _, predicted = torch.max(outputs.data, 1)\n",
    "                    total += labels.size(0)\n",
    "                    correct += (predicted == labels).sum().item()\n",
    "                test_error_list.append(100 * correct / total)\n",
    "\n",
    "            print(f'Accuracy at ({true_epoch}) of the network on the 10000 test images: {100 * correct / total}')\n",
    "            total_time += time.time() - start_time\n",
    "            print(f'Finished epoch {true_epoch}, cumulative time: {total_time}s')\n",
    "    accuracies.append(100 * correct / total)\n",
    "print(f\"Accuracy = {np.mean(accuracies)} +/- {np.std(accuracies)/np.sqrt(tests)}\")\n",
    "print(\"Finished training!\")"
   ],
   "metadata": {
    "collapsed": false,
    "pycharm": {
     "is_executing": true
    }
   }
  },
  {
   "cell_type": "code",
   "execution_count": null,
   "outputs": [],
   "source": [
    "accuracies_2 = [96.8, 96.57, 96.79, 96.72, 96.76, 96.52, 96.57, 96.7, 96.89, 96.91]\n",
    "print(f\"Accuracy = {np.mean(accuracies_2)} +/- {np.std(accuracies_2)/np.sqrt(tests)}\")"
   ],
   "metadata": {
    "collapsed": false,
    "pycharm": {
     "is_executing": true
    }
   }
  },
  {
   "cell_type": "code",
   "execution_count": null,
   "outputs": [],
   "source": [
    "accuracies"
   ],
   "metadata": {
    "collapsed": false,
    "pycharm": {
     "is_executing": true
    }
   }
  },
  {
   "cell_type": "code",
   "execution_count": null,
   "outputs": [],
   "source": [
    "print(net.conv1.weight.device)"
   ],
   "metadata": {
    "collapsed": false,
    "pycharm": {
     "is_executing": true
    }
   }
  },
  {
   "cell_type": "code",
   "execution_count": null,
   "outputs": [],
   "source": [
    "\n",
    "net = Net()\n",
    "total_time = 0\n",
    "true_epoch = 0\n",
    "train_error_list = []\n",
    "test_error_list = []\n",
    "\n",
    "trainset2 = torchvision.datasets.MNIST(root='./data', train=True,\n",
    "                                        download=True, transform=transform2)\n",
    "\n",
    "torch.manual_seed(42)\n",
    "trainset2, validset2 = torch.utils.data.random_split(trainset2, (2_000, 58_000))\n",
    "\n",
    "trainloader = torch.utils.data.DataLoader(trainset2, batch_size=32,\n",
    "                                          shuffle=True)\n",
    "criterion = nn.CrossEntropyLoss()\n",
    "optimizer = optim.SGD(net.parameters(), lr=0.01, momentum=0.5)\n",
    "net.to(device)\n"
   ],
   "metadata": {
    "collapsed": false,
    "pycharm": {
     "is_executing": true
    }
   }
  },
  {
   "cell_type": "code",
   "execution_count": null,
   "outputs": [],
   "source": [
    "\n",
    "for epoch in range(100):  # loop over the dataset multiple times\n",
    "    start_time = time.time()\n",
    "    true_epoch += 1\n",
    "    running_loss = 0.0\n",
    "    true_train_total = 0.0\n",
    "    correct_train_total = 0.0\n",
    "    correct_train = 0.0\n",
    "    total_train = 0.0\n",
    "    for i, data in enumerate(trainloader, 0):\n",
    "        # get the inputs\n",
    "        inputs, labels = data\n",
    "        inputs, labels = inputs.to(device), labels.to(device)\n",
    "        # zero the parameter gradients\n",
    "        optimizer.zero_grad()\n",
    "\n",
    "        # forward + backward + optimize\n",
    "        outputs = net(inputs)\n",
    "        loss = criterion(outputs, labels)\n",
    "\n",
    "        _, predicted = torch.max(outputs.data, 1)\n",
    "        total_train += labels.size(0)\n",
    "        true_train_total += labels.size(0)\n",
    "        correct_train += (predicted == labels).sum().item()\n",
    "        correct_train_total += (predicted == labels).sum().item()\n",
    "\n",
    "        loss.backward()\n",
    "        optimizer.step()\n",
    "\n",
    "        # print statistics\n",
    "        running_loss += loss.item()\n",
    "        if i % 50 == 49:    # print every 100 mini-batches\n",
    "            print(f'[{true_epoch}, {i + 1}] loss: {running_loss / total_train:.4f}, Correct Rate: {100 * correct_train / total_train:.2f}%')\n",
    "            running_loss = 0.0\n",
    "            correct_train = 0.0\n",
    "            total_train = 0.0\n",
    "    train_error_list.append(100 * correct_train_total / true_train_total)\n",
    "    correct = 0\n",
    "    total = 0\n",
    "    with torch.no_grad():\n",
    "        for data in testloader:\n",
    "            images, labels = data\n",
    "            images, labels = images.to(device), labels.to(device)\n",
    "            outputs = net(images)\n",
    "            _, predicted = torch.max(outputs.data, 1)\n",
    "            total += labels.size(0)\n",
    "            correct += (predicted == labels).sum().item()\n",
    "        test_error_list.append(100 * correct / total)\n",
    "\n",
    "    total_time += time.time() - start_time\n",
    "    print(f'Accuracy at ({true_epoch}) of the network on the 10000 test images: {100 * correct / total}')\n",
    "    print(f'Finished epoch {true_epoch}, cumulative time: {total_time}s')\n",
    "print(\"Finished training!\")"
   ],
   "metadata": {
    "collapsed": false,
    "pycharm": {
     "is_executing": true
    }
   }
  },
  {
   "cell_type": "code",
   "execution_count": null,
   "outputs": [],
   "source": [],
   "metadata": {
    "collapsed": false,
    "pycharm": {
     "is_executing": true
    }
   }
  },
  {
   "cell_type": "code",
   "execution_count": null,
   "outputs": [],
   "source": [],
   "metadata": {
    "collapsed": false,
    "pycharm": {
     "is_executing": true
    }
   }
  }
 ],
 "metadata": {
  "kernelspec": {
   "display_name": "Python 3",
   "language": "python",
   "name": "python3"
  },
  "language_info": {
   "codemirror_mode": {
    "name": "ipython",
    "version": 2
   },
   "file_extension": ".py",
   "mimetype": "text/x-python",
   "name": "python",
   "nbconvert_exporter": "python",
   "pygments_lexer": "ipython2",
   "version": "2.7.6"
  }
 },
 "nbformat": 4,
 "nbformat_minor": 0
}
